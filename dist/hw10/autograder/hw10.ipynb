{
 "cells": [
  {
   "cell_type": "code",
   "execution_count": null,
   "metadata": {
    "deletable": false,
    "editable": false
   },
   "outputs": [],
   "source": [
    "# Initialize Otter\n",
    "import otter\n",
    "grader = otter.Notebook(\"hw10.ipynb\")"
   ]
  },
  {
   "cell_type": "markdown",
   "metadata": {},
   "source": [
    "# Homework 10: Linear Regression"
   ]
  },
  {
   "cell_type": "markdown",
   "metadata": {},
   "source": [
    "**Reading**: \n",
    "* [Linear Regression](https://www.inferentialthinking.com/chapters/15/2/Regression_Line.html)\n",
    "* [Method of Least Squares](https://www.inferentialthinking.com/chapters/15/3/Method_of_Least_Squares.html)\n",
    "* [Least Squares Regression](https://www.inferentialthinking.com/chapters/15/4/Least_Squares_Regression.html)"
   ]
  },
  {
   "cell_type": "markdown",
   "metadata": {},
   "source": [
    "Please complete this notebook by filling in the cells provided. \n",
    "\n",
    "Directly sharing answers is not okay, but discussing problems with the course staff or with other students is encouraged. Refer to the policies page to learn more about how to learn cooperatively.\n",
    "\n",
    "For all problems that you must write our explanations and sentences for, you **must** provide your answer in the designated space. Moreover, throughout this homework and all future ones, please be sure to not re-assign variables throughout the notebook! For example, if you use `max_temperature` in your answer to one question, do not reassign it later on."
   ]
  },
  {
   "cell_type": "code",
   "execution_count": 1,
   "metadata": {},
   "outputs": [],
   "source": [
    "# Don't change this cell; just run it. \n",
    "\n",
    "import numpy as np\n",
    "from datascience import *\n",
    "\n",
    "# These lines do some fancy plotting magic.\n",
    "import matplotlib\n",
    "%matplotlib inline\n",
    "import matplotlib.pyplot as plt\n",
    "plt.style.use('fivethirtyeight')\n",
    "import warnings\n",
    "warnings.simplefilter('ignore', FutureWarning)\n",
    "\n",
    "import otter\n",
    "grader = otter.Notebook()"
   ]
  },
  {
   "cell_type": "markdown",
   "metadata": {},
   "source": [
    "## Exploring the PTEN Gene with Linear Regression"
   ]
  },
  {
   "cell_type": "markdown",
   "metadata": {},
   "source": [
    "## 1. PTEN Linear Regression"
   ]
  },
  {
   "cell_type": "markdown",
   "metadata": {},
   "source": [
    "This week's homework is about linear regression. The dataset we'll be using is from the Cancer Cell Line Encyclopedia -- you can read more about this database in this [paper](https://www.nature.com/articles/s41586-019-1186-3) and interact with the data yourself at the online portal [here](https://portals.broadinstitute.org/ccle).\n",
    "\n",
    "The specific dataset we'll be taking a look at is expression data for the PTEN gene in around 1000 cell lines. The PTEN gene is a tumor-suppressing gene, and mutations in the PTEN gene are associated with many types of cancer. A cell line is group of cells that are kept alive and replicate indefinitely in culture (grown in petri dishes, for example).\n",
    "\n",
    "Run the following cell to load the `pten` table. The `pten` table has four columns, a column for the specific `Cell Line`, a column for the `Copy Number`, which is how many times a copy of a portion of the PTEN gene is found in the DNA of that cell line, `mRNA Expression (Affy)`, and `mRNA Expression (RNAseq)`."
   ]
  },
  {
   "cell_type": "code",
   "execution_count": 4,
   "metadata": {},
   "outputs": [
    {
     "data": {
      "text/html": [
       "<table border=\"1\" class=\"dataframe\">\n",
       "    <thead>\n",
       "        <tr>\n",
       "            <th>Cell Line</th> <th>Copy Number</th> <th>mRNA Expression (Affy)</th> <th>mRNA Expression (RNAseq)</th>\n",
       "        </tr>\n",
       "    </thead>\n",
       "    <tbody>\n",
       "        <tr>\n",
       "            <td>DMS53_LUNG                              </td> <td>0.1728     </td> <td>7.4829                </td> <td>2.4898                  </td>\n",
       "        </tr>\n",
       "        <tr>\n",
       "            <td>SW1116_LARGE_INTESTINE                  </td> <td>0.191      </td> <td>8.15495               </td> <td>2.86857                 </td>\n",
       "        </tr>\n",
       "        <tr>\n",
       "            <td>NCIH1694_LUNG                           </td> <td>-0.2372    </td> <td>7.99308               </td> <td>2.82148                 </td>\n",
       "        </tr>\n",
       "        <tr>\n",
       "            <td>P3HR1_HAEMATOPOIETIC_AND_LYMPHOID_TISSUE</td> <td>-0.0129    </td> <td>9.96358               </td> <td>4.65702                 </td>\n",
       "        </tr>\n",
       "        <tr>\n",
       "            <td>HUT78_HAEMATOPOIETIC_AND_LYMPHOID_TISSUE</td> <td>-1.1013    </td> <td>8.74116               </td> <td>2.75236                 </td>\n",
       "        </tr>\n",
       "    </tbody>\n",
       "</table>\n",
       "<p>... (968 rows omitted)</p>"
      ],
      "text/plain": [
       "<IPython.core.display.HTML object>"
      ]
     },
     "metadata": {},
     "output_type": "display_data"
    }
   ],
   "source": [
    "# Just run this cell\n",
    "pten = Table().read_table(\"pten.csv\")\n",
    "pten.show(5)"
   ]
  },
  {
   "cell_type": "code",
   "execution_count": 5,
   "metadata": {},
   "outputs": [
    {
     "data": {
      "image/png": "[encoded data removed]",
      "text/plain": [
       "<Figure size 432x288 with 1 Axes>"
      ]
     },
     "metadata": {},
     "output_type": "display_data"
    }
   ],
   "source": [
    "# Just run this cell\n",
    "pten.hist(\"Copy Number\", bins = np.arange(-1, 1.5, 0.5))"
   ]
  },
  {
   "cell_type": "markdown",
   "metadata": {
    "deletable": false,
    "editable": false
   },
   "source": [
    "**Question 1**\n",
    "\n",
    "Looking at the histogram above, we want to check whether or not `Copy Number` is in standard units. For this question, compute the mean and the standard deviation of the values in `Copy Number` and assign these values to `copy_number_mean` and `copy_number_sd` respectively. After you calculate these values, assign `is_su` to either `True` if you think that `Copy Numbers` is in standard units or `False` if you think otherwise.\n",
    "\n",
    "<!--\n",
    "BEGIN QUESTION\n",
    "name: q1_1\n",
    "manual: false\n",
    "-->"
   ]
  },
  {
   "cell_type": "code",
   "execution_count": 6,
   "metadata": {},
   "outputs": [
    {
     "name": "stdout",
     "output_type": "stream",
     "text": [
      "Mean: -0.19447913669064748, SD: 0.7462401942190691, Is in standard units?: False\n"
     ]
    }
   ],
   "source": [
    "copy_number = pten.column(\"Copy Number\")\n",
    "copy_number_mean = np.mean(copy_number) # SOLUTION\n",
    "copy_number_sd = np.std(copy_number) # SOLUTION\n",
    "is_su = False # SOLUTION\n",
    "print(f\"Mean: {copy_number_mean}, SD: {copy_number_sd}, Is in standard units?: {is_su}\")"
   ]
  },
  {
   "cell_type": "code",
   "execution_count": null,
   "metadata": {
    "deletable": false,
    "editable": false
   },
   "outputs": [],
   "source": [
    "grader.check(\"q1_1\")"
   ]
  },
  {
   "cell_type": "markdown",
   "metadata": {
    "deletable": false,
    "editable": false
   },
   "source": [
    "**Question 2**\n",
    "\n",
    "Create the function `standard_units` so that it converts the values in the array `arr` to standard units. We'll then use `standard_units` to create a new table, `pten_su`, that converts all the values in the table `pten` to standard units.\n",
    "\n",
    "<!--\n",
    "BEGIN QUESTION\n",
    "name: q1_2\n",
    "manual: false\n",
    "-->"
   ]
  },
  {
   "cell_type": "code",
   "execution_count": 9,
   "metadata": {},
   "outputs": [
    {
     "data": {
      "text/html": [
       "<table border=\"1\" class=\"dataframe\">\n",
       "    <thead>\n",
       "        <tr>\n",
       "            <th>Cell Line</th> <th>Copy Number SU</th> <th>mRNA Expression (Affy) SU</th> <th>mRNA Expression (RNAseq) SU</th>\n",
       "        </tr>\n",
       "    </thead>\n",
       "    <tbody>\n",
       "        <tr>\n",
       "            <td>DMS53_LUNG                              </td> <td>0.492173      </td> <td>-0.925344                </td> <td>-0.17077                   </td>\n",
       "        </tr>\n",
       "        <tr>\n",
       "            <td>SW1116_LARGE_INTESTINE                  </td> <td>0.516562      </td> <td>-0.355245                </td> <td>0.0992261                  </td>\n",
       "        </tr>\n",
       "        <tr>\n",
       "            <td>NCIH1694_LUNG                           </td> <td>-0.0572481    </td> <td>-0.492553                </td> <td>0.0656589                  </td>\n",
       "        </tr>\n",
       "        <tr>\n",
       "            <td>P3HR1_HAEMATOPOIETIC_AND_LYMPHOID_TISSUE</td> <td>0.243325      </td> <td>1.17902                  </td> <td>1.37408                    </td>\n",
       "        </tr>\n",
       "        <tr>\n",
       "            <td>HUT78_HAEMATOPOIETIC_AND_LYMPHOID_TISSUE</td> <td>-1.21519      </td> <td>0.142045                 </td> <td>0.0163913                  </td>\n",
       "        </tr>\n",
       "    </tbody>\n",
       "</table>\n",
       "<p>... (968 rows omitted)</p>"
      ],
      "text/plain": [
       "<IPython.core.display.HTML object>"
      ]
     },
     "metadata": {},
     "output_type": "display_data"
    }
   ],
   "source": [
    "def standard_units(arr):\n",
    "    return (arr - np.mean(arr)) / np.std(arr) # SOLUTION\n",
    "\n",
    "# DON'T DELETE OR MODIFY ANY OF THE LINES OF CODE BELOW IN THIS CELL\n",
    "pten_su = Table().with_columns(\"Cell Line\", pten.column(\"Cell Line\"),\n",
    "                               \"Copy Number SU\", standard_units(pten.column(\"Copy Number\")),\n",
    "                               \"mRNA Expression (Affy) SU\", standard_units(pten.column(\"mRNA Expression (Affy)\")),\n",
    "                               \"mRNA Expression (RNAseq) SU\", standard_units(pten.column(\"mRNA Expression (RNAseq)\"))                             \n",
    "                              )\n",
    "pten_su.show(5)"
   ]
  },
  {
   "cell_type": "code",
   "execution_count": null,
   "metadata": {
    "deletable": false,
    "editable": false
   },
   "outputs": [],
   "source": [
    "grader.check(\"q1_2\")"
   ]
  },
  {
   "cell_type": "markdown",
   "metadata": {},
   "source": [
    "You should always visually inspect your data, before numerically analyzing any relationships in your dataset. Run the following cell in order to look at the relationship between the variables in our dataset."
   ]
  },
  {
   "cell_type": "code",
   "execution_count": 28,
   "metadata": {},
   "outputs": [
    {
     "data": {
      "image/png": "[encoded data removed]",
      "text/plain": [
       "<Figure size 360x360 with 1 Axes>"
      ]
     },
     "metadata": {},
     "output_type": "display_data"
    },
    {
     "data": {
      "image/png": "[encoded data removed]",
      "text/plain": [
       "<Figure size 360x360 with 1 Axes>"
      ]
     },
     "metadata": {},
     "output_type": "display_data"
    },
    {
     "data": {
      "image/png": "[encoded data removed]",
      "text/plain": [
       "<Figure size 360x360 with 1 Axes>"
      ]
     },
     "metadata": {},
     "output_type": "display_data"
    }
   ],
   "source": [
    "# Just run this cell\n",
    "pten_su.scatter(\"Copy Number SU\", \"mRNA Expression (Affy) SU\")\n",
    "pten_su.scatter(\"Copy Number SU\", \"mRNA Expression (RNAseq) SU\")\n",
    "pten_su.scatter(\"mRNA Expression (Affy) SU\", \"mRNA Expression (RNAseq) SU\")"
   ]
  },
  {
   "cell_type": "markdown",
   "metadata": {
    "deletable": false,
    "editable": false
   },
   "source": [
    "**Question 3**\n",
    "\n",
    "Which of the following relationships do you think has the highest correlation (i.e. highest absolute value of `r`)? Assign `highest_correlation` to the number corresponding to the relationship you think has the highest correlation.\n",
    "\n",
    "1. Copy Number vs. mRNA Expression (Affy)\n",
    "2. Copy Number vs. mRNA Expression (RNAseq)\n",
    "3. mRNA Expression (Affy) vs. mRNA Expression (RNAseq)\n",
    "\n",
    "<!--\n",
    "BEGIN QUESTION\n",
    "name: q1_3\n",
    "manual: false\n",
    "-->"
   ]
  },
  {
   "cell_type": "code",
   "execution_count": 29,
   "metadata": {},
   "outputs": [],
   "source": [
    "highest_correlation = 3 # SOLUTION"
   ]
  },
  {
   "cell_type": "code",
   "execution_count": null,
   "metadata": {
    "deletable": false,
    "editable": false
   },
   "outputs": [],
   "source": [
    "grader.check(\"q1_3\")"
   ]
  },
  {
   "cell_type": "markdown",
   "metadata": {
    "deletable": false,
    "editable": false
   },
   "source": [
    "**Question 4**\n",
    "\n",
    "Now, using the `standard units` function, define the function `correlation` which computes the correlation between `arr1` and `arr2`.\n",
    "\n",
    "<!--\n",
    "BEGIN QUESTION\n",
    "name: q1_4\n",
    "manual: false\n",
    "-->"
   ]
  },
  {
   "cell_type": "code",
   "execution_count": 32,
   "metadata": {},
   "outputs": [
    {
     "name": "stdout",
     "output_type": "stream",
     "text": [
      "       Copy Number vs. mRNA Expression (Affy) Correlation: 0.5819516653311988, \n",
      "       Copy Number vs. mRNA Expression (RNAseq) Correlation: 0.6954196009651351, \n",
      "       mRNA Expression (Affy) vs. mRNA Expression (RNAseq) Correlation: 0.9000764746535077\n"
     ]
    }
   ],
   "source": [
    "def correlation(arr1, arr2):\n",
    "    return np.mean(standard_units(arr1) * standard_units(arr2)) # SOLUTION\n",
    "\n",
    "# This computes the correlation between the different variables in pten\n",
    "copy_affy = correlation(pten.column(\"Copy Number\"), pten.column(\"mRNA Expression (Affy)\"))\n",
    "copy_rnaseq = correlation(pten.column(\"Copy Number\"), pten.column(\"mRNA Expression (RNAseq)\"))\n",
    "affy_rnaseq = correlation(pten.column(\"mRNA Expression (Affy)\"), pten.column(\"mRNA Expression (RNAseq)\"))\n",
    "\n",
    "print(f\" \\\n",
    "      Copy Number vs. mRNA Expression (Affy) Correlation: {copy_affy}, \\n \\\n",
    "      Copy Number vs. mRNA Expression (RNAseq) Correlation: {copy_rnaseq}, \\n \\\n",
    "      mRNA Expression (Affy) vs. mRNA Expression (RNAseq) Correlation: {affy_rnaseq}\")"
   ]
  },
  {
   "cell_type": "code",
   "execution_count": null,
   "metadata": {
    "deletable": false,
    "editable": false
   },
   "outputs": [],
   "source": [
    "grader.check(\"q1_4\")"
   ]
  },
  {
   "cell_type": "markdown",
   "metadata": {
    "deletable": false,
    "editable": false
   },
   "source": [
    "**Question 5**\n",
    "\n",
    "If we switch what we input as arguments to `correlation`, i.e. found the correlation between `mRNA Expression (Affy)` vs. `Copy Number` instead of the other way around, would the correlation change? Assign `correlation_change` to either `True` if you think yes, or `False` if you think no.\n",
    "\n",
    "<!--\n",
    "BEGIN QUESTION\n",
    "name: q1_5\n",
    "manual: false\n",
    "-->"
   ]
  },
  {
   "cell_type": "code",
   "execution_count": 36,
   "metadata": {},
   "outputs": [],
   "source": [
    "correlation_change = False # SOLUTION"
   ]
  },
  {
   "cell_type": "code",
   "execution_count": null,
   "metadata": {
    "deletable": false,
    "editable": false
   },
   "outputs": [],
   "source": [
    "grader.check(\"q1_5\")"
   ]
  },
  {
   "cell_type": "markdown",
   "metadata": {
    "deletable": false,
    "editable": false
   },
   "source": [
    "<!-- BEGIN QUESTION -->\n",
    "\n",
    "**Question 6**\n",
    "\n",
    "Looking at both the scatter plots after Question 2 and the correlations computed in Question 4, describe a pattern you see in the relationships between the variables.\n",
    "\n",
    "<!--\n",
    "BEGIN QUESTION\n",
    "name: q1_6\n",
    "manual: true\n",
    "-->"
   ]
  },
  {
   "cell_type": "markdown",
   "metadata": {},
   "source": [
    "_Type your answer here, replacing this text._"
   ]
  },
  {
   "cell_type": "markdown",
   "metadata": {
    "export_pdf": true
   },
   "source": [
    "**SOLUTION:** Any of the following patterns are sufficient: all the relationships have a positive association, all of the relationships have a fairly high correlation."
   ]
  },
  {
   "cell_type": "markdown",
   "metadata": {
    "deletable": false,
    "editable": false
   },
   "source": [
    "<!-- END QUESTION -->\n",
    "\n",
    "**Question 7**\n",
    "\n",
    "Let's look at the relationship between mRNA Expression (Affy) vs. mRNA Expression (RNAseq) only. Define a function called `regression_parameters` that returns the parameters of the regression line as a two-item array containing the slope and intercept of the regression line as the first and second elements respectively. The function `regression_line` takes in two arguments, an array of `x` values, and an array of `y` values.\n",
    "\n",
    "<!--\n",
    "BEGIN QUESTION\n",
    "name: q1_7\n",
    "manual: false\n",
    "-->"
   ]
  },
  {
   "cell_type": "code",
   "execution_count": 39,
   "metadata": {},
   "outputs": [
    {
     "data": {
      "text/plain": [
       "array([ 1.07113964, -6.45428385])"
      ]
     },
     "execution_count": 39,
     "metadata": {},
     "output_type": "execute_result"
    }
   ],
   "source": [
    "def regression_parameters(x, y):\n",
    "    # BEGIN SOLUTION\n",
    "    x_mean = np.mean(x)\n",
    "    y_mean = np.mean(y)\n",
    "    x_sd = np.std(x)\n",
    "    y_sd = np.std(y)\n",
    "    r = correlation(x, y)\n",
    "    # END SOLUTION\n",
    "    slope = r * y_sd / x_sd # SOLUTION\n",
    "    intercept = y_mean - (slope * x_mean) # SOLUTION\n",
    "    return make_array(slope, intercept)\n",
    "\n",
    "parameters = regression_parameters(pten.column(\"mRNA Expression (Affy)\"), pten.column(\"mRNA Expression (RNAseq)\"))\n",
    "parameters"
   ]
  },
  {
   "cell_type": "code",
   "execution_count": null,
   "metadata": {
    "deletable": false,
    "editable": false
   },
   "outputs": [],
   "source": [
    "grader.check(\"q1_7\")"
   ]
  },
  {
   "cell_type": "markdown",
   "metadata": {
    "deletable": false,
    "editable": false
   },
   "source": [
    "**Question 8**\n",
    "\n",
    "If we switch what we input as arguments to `regression_parameters`, i.e. found the parameters for the regression line for `mRNA Expression (RNAseq)` vs. `mRNA Expression (Affy)` instead of the other way around, would the regression parameters change (would the slope and/or intercept change)? Assign `parameters_change` to either `True` if you think yes, or `False` if you think no.\n",
    "\n",
    "<!--\n",
    "BEGIN QUESTION\n",
    "name: q1_8\n",
    "manual: false\n",
    "-->"
   ]
  },
  {
   "cell_type": "code",
   "execution_count": 43,
   "metadata": {},
   "outputs": [],
   "source": [
    "parameters_change = True # SOLUTION"
   ]
  },
  {
   "cell_type": "code",
   "execution_count": null,
   "metadata": {
    "deletable": false,
    "editable": false
   },
   "outputs": [],
   "source": [
    "grader.check(\"q1_8\")"
   ]
  },
  {
   "cell_type": "markdown",
   "metadata": {
    "deletable": false,
    "editable": false
   },
   "source": [
    "**Question 9**\n",
    "\n",
    "Now, let's look at how the regression parameters look like in standard units. Use the table `pten_su` and the function `regression_parameters`, and assign `parameters_su` to a two-item array containing the slope and the intercept of the regression line for mRNA Expression (Affy) in standard units vs. mRNA Expression (RNAseq) in standard units.\n",
    "\n",
    "\n",
    "<!--\n",
    "BEGIN QUESTION\n",
    "name: q1_9\n",
    "manual: false\n",
    "-->"
   ]
  },
  {
   "cell_type": "code",
   "execution_count": 46,
   "metadata": {},
   "outputs": [
    {
     "data": {
      "text/plain": [
       "array([9.00076475e-01, 1.16123028e-16])"
      ]
     },
     "execution_count": 46,
     "metadata": {},
     "output_type": "execute_result"
    }
   ],
   "source": [
    "parameters_su = regression_parameters(pten_su.column(\"mRNA Expression (Affy) SU\"), pten_su.column(\"mRNA Expression (RNAseq) SU\")) # SOLUTION\n",
    "parameters_su"
   ]
  },
  {
   "cell_type": "code",
   "execution_count": null,
   "metadata": {
    "deletable": false,
    "editable": false
   },
   "outputs": [],
   "source": [
    "grader.check(\"q1_9\")"
   ]
  },
  {
   "cell_type": "markdown",
   "metadata": {
    "deletable": false,
    "editable": false
   },
   "source": [
    "<!-- BEGIN QUESTION -->\n",
    "\n",
    "**Question 10**\n",
    "\n",
    "Looking at the array `parameters_su`, what do you notice about the slope and intercept values specifically? Relate them to another value we already calculated in a previous question, as well as relate them to an equation.\n",
    "\n",
    "\n",
    "<!--\n",
    "BEGIN QUESTION\n",
    "name: q1_10\n",
    "manual: true\n",
    "-->"
   ]
  },
  {
   "cell_type": "markdown",
   "metadata": {},
   "source": [
    "_Type your answer here, replacing this text._"
   ]
  },
  {
   "cell_type": "markdown",
   "metadata": {
    "export_pdf": true
   },
   "source": [
    "**SOLUTION:** The slope is 0.9 which matches the correlation we computed for mRNA Expression (Affy) vs. mRNA Expression (RNAseq) in question 4. The intercept is 0. Both of these values correspond to the regression line calculated using standard units: $y_su = r * x_su + 0$"
   ]
  },
  {
   "cell_type": "markdown",
   "metadata": {
    "deletable": false,
    "editable": false
   },
   "source": [
    "<!-- END QUESTION -->\n",
    "\n",
    "**Question 11**\n",
    "\n",
    "The oldest and most commonly used cell line in Biology is the HeLa cell line, named after Henrietta Lacks, whose cervical cancer cells were taken without her consent in 1951 to create this cell line. The issue of data privacy and consent is very important to data science! You can read more about this topic [here](https://www.hopkinsmedicine.org/henriettalacks/).\n",
    "\n",
    "The HeLa cell line is missing from our dataset. If we know that the HeLa mRNA Expression (Affy) value is 8.2, what is the predicted mRNA Expression (RNAseq) value? Use the values in `parameters` that we derived in Question 1.7, and assign the result to `hela_rnaseq`.\n",
    "\n",
    "<!--\n",
    "BEGIN QUESTION\n",
    "name: q1_11\n",
    "manual: false\n",
    "-->"
   ]
  },
  {
   "cell_type": "code",
   "execution_count": 49,
   "metadata": {},
   "outputs": [
    {
     "data": {
      "text/plain": [
       "2.32906120281946"
      ]
     },
     "execution_count": 49,
     "metadata": {},
     "output_type": "execute_result"
    }
   ],
   "source": [
    "hela_rnaseq = parameters.item(0) * 8.2 + parameters.item(1) # SOLUTION\n",
    "hela_rnaseq"
   ]
  },
  {
   "cell_type": "code",
   "execution_count": null,
   "metadata": {
    "deletable": false,
    "editable": false
   },
   "outputs": [],
   "source": [
    "grader.check(\"q1_11\")"
   ]
  },
  {
   "cell_type": "markdown",
   "metadata": {
    "deletable": false,
    "editable": false
   },
   "source": [
    "<!-- BEGIN QUESTION -->\n",
    "\n",
    "**Question 12**\n",
    "\n",
    "Compute the predicted mRNA Expression (RNAseq) values from the mRNA Expression (Affy) values in the `pten` table. Use the values in the `parameters` array from Question 1.7, and assign the result to `predicted_rnaseq`. We'll plot your computed regression line with the scatter plot from after question 1.2 of mRNA Expression (Affy) vs. mRNA Expression (RNAseq).\n",
    "\n",
    "<!--\n",
    "BEGIN QUESTION\n",
    "name: q1_12\n",
    "manual: true\n",
    "-->"
   ]
  },
  {
   "cell_type": "code",
   "execution_count": 53,
   "metadata": {
    "export_pdf": true
   },
   "outputs": [
    {
     "data": {
      "image/png": "[encoded data removed]",
      "text/plain": [
       "<Figure size 360x360 with 1 Axes>"
      ]
     },
     "metadata": {},
     "output_type": "display_data"
    }
   ],
   "source": [
    "predicted_rnaseq = parameters.item(0) * pten.column(\"mRNA Expression (Affy)\") + parameters.item(1) # SOLUTION\n",
    "\n",
    "# DON'T CHANGE/DELETE ANY OF THE BELOW CODE IN THIS CELL\n",
    "(pten.with_column(\"Predicted mRNA Expression (RNAseq)\", predicted_rnaseq)\n",
    " .select(\"mRNA Expression (Affy)\", \"mRNA Expression (RNAseq)\", \"Predicted mRNA Expression (RNAseq)\")\n",
    " .scatter(\"mRNA Expression (Affy)\"))\n",
    "plt.ylabel(\"mRNA Expression (RNAseq)\");"
   ]
  },
  {
   "cell_type": "markdown",
   "metadata": {},
   "source": [
    "<!-- END QUESTION -->\n",
    "\n",
    "\n",
    "\n",
    "## Fitting a least-squares regression line"
   ]
  },
  {
   "cell_type": "markdown",
   "metadata": {},
   "source": [
    "Recall that the least-square regression line is the unique straight line that minimizes root mean squared error (RMSE) among all possible fit lines. Using this property, we can find the equation of the regression line by finding the pair of slope and intercept values that minimize root mean squared error."
   ]
  },
  {
   "cell_type": "markdown",
   "metadata": {
    "deletable": false,
    "editable": false
   },
   "source": [
    "**Question 13**\n",
    "\n",
    "Define a function called `RMSE`. It should take two arguments:\n",
    "\n",
    "1. the slope of a line (a number)\n",
    "2. the intercept of a line (a number).\n",
    "\n",
    "It should return a number that is the root mean squared error (RMSE) for a line defined with the arguments slope and intercept used to predict mRNA Expression (RNAseq) values from mRNA Expression (Affy) values for each row in the `pten` table.\n",
    "\n",
    "*Hint: Errors are defined as the difference between the actual `y` values and the predicted `y` values.*\n",
    "\n",
    "*Note: if you need a refresher on RMSE, here's the [link](https://www.inferentialthinking.com/chapters/15/3/Method_of_Least_Squares.html#Root-Mean-Squared-Error) from the textbook*\n",
    "\n",
    "<!--\n",
    "BEGIN QUESTION\n",
    "name: q1_13\n",
    "manual: false\n",
    "-->"
   ]
  },
  {
   "cell_type": "code",
   "execution_count": 55,
   "metadata": {},
   "outputs": [
    {
     "data": {
      "text/plain": [
       "7.612008179226994"
      ]
     },
     "execution_count": 55,
     "metadata": {},
     "output_type": "execute_result"
    }
   ],
   "source": [
    "def RMSE(slope, intercept):\n",
    "    affy = pten.column(\"mRNA Expression (Affy)\")\n",
    "    rnaseq = pten.column(\"mRNA Expression (RNAseq)\")\n",
    "    predicted_rnaseq = slope * affy + intercept # SOLUTION\n",
    "    return np.sqrt(np.mean((rnaseq - predicted_rnaseq) ** 2)) # SOLUTION\n",
    "\n",
    "# DON'T CHANGE THE FOLLOWING LINES BELOW IN THIS CELL\n",
    "rmse_example = RMSE(0.5, 6)\n",
    "rmse_example"
   ]
  },
  {
   "cell_type": "code",
   "execution_count": null,
   "metadata": {
    "deletable": false,
    "editable": false
   },
   "outputs": [],
   "source": [
    "grader.check(\"q1_13\")"
   ]
  },
  {
   "cell_type": "markdown",
   "metadata": {
    "deletable": false,
    "editable": false
   },
   "source": [
    "<!-- BEGIN QUESTION -->\n",
    "\n",
    "**Question 14**\n",
    "\n",
    "What is the RMSE of a line with slope 0 and intercept of the mean of `y` equal to?\n",
    "\n",
    "*Hint 1: The line with slope 0 and intercept of mean of `y` is just a straight horizontal line at the mean of `y`*\n",
    "\n",
    "*Hint 2: What does the formula for RMSE become if we input our predicted `y` values in the formula. Try writing it out on paper! It should be a familiar formula.*\n",
    "\n",
    "<!--\n",
    "BEGIN QUESTION\n",
    "name: q1_14\n",
    "manual: true\n",
    "-->"
   ]
  },
  {
   "cell_type": "markdown",
   "metadata": {},
   "source": [
    "_Type your answer here, replacing this text._"
   ]
  },
  {
   "cell_type": "markdown",
   "metadata": {
    "export_pdf": true
   },
   "source": [
    "**SOLUTION:** The RMSE of a line with slope 0 and intercept of the mean of `y` is equal to the standard deviation of `y`. We know t hat the predicted line is just going to be a straight horizontal line with the mean of `y` as the y values. When we plug that in to the formula for RMSE we get: $$\\sqrt{mean((y_{actual} - y_{mean})^2)}$$\n",
    "which is exactly equal to the standard deviation of `y`."
   ]
  },
  {
   "cell_type": "markdown",
   "metadata": {
    "deletable": false,
    "editable": false
   },
   "source": [
    "<!-- END QUESTION -->\n",
    "\n",
    "**Question 15**\n",
    "\n",
    "Find the parameters that minimizes RMSE of the regression line for mRNA Expression (Affy) vs. mRNA Expression (RNAseq). Assign the result to `minimized_parameters`.\n",
    "\n",
    "If you haven't tried to use the `minimize` [function](http://data8.org/sp20/python-reference.html) yet, now is a great time to practice. Here's an [example from the textbook](https://www.inferentialthinking.com/chapters/15/3/Method_of_Least_Squares.html#numerical-optimization).\n",
    "\n",
    "*Hint: Use the `RMSE` function in Question 1.13*\n",
    "\n",
    "**NOTE: When you use the minimize function, please pass in `smooth=True` as the second argument to this function. You'll need to do this, otherwise, your answer will be incorrect**\n",
    "\n",
    "<!--\n",
    "BEGIN QUESTION\n",
    "name: q1_15\n",
    "manual: false\n",
    "-->"
   ]
  },
  {
   "cell_type": "code",
   "execution_count": 58,
   "metadata": {},
   "outputs": [
    {
     "data": {
      "text/plain": [
       "array([ 1.0711393, -6.4542809])"
      ]
     },
     "execution_count": 58,
     "metadata": {},
     "output_type": "execute_result"
    }
   ],
   "source": [
    "minimized_parameters = minimize(RMSE, smooth = True) # SOLUTION\n",
    "minimized_parameters"
   ]
  },
  {
   "cell_type": "code",
   "execution_count": null,
   "metadata": {
    "deletable": false,
    "editable": false
   },
   "outputs": [],
   "source": [
    "grader.check(\"q1_15\")"
   ]
  },
  {
   "cell_type": "markdown",
   "metadata": {
    "deletable": false,
    "editable": false
   },
   "source": [
    "<!-- BEGIN QUESTION -->\n",
    "\n",
    "**Question 16**\n",
    "\n",
    "The slope and intercept pair you found in Question 1.15 should be very similar to the values that you found in Question 1.7. Why were we able to minimize RMSE to find the same slope and intercept from the previous formulas?\n",
    "\n",
    "\n",
    "<!--\n",
    "BEGIN QUESTION\n",
    "name: q1_16\n",
    "manual: true\n",
    "-->"
   ]
  },
  {
   "cell_type": "markdown",
   "metadata": {},
   "source": [
    "_Type your answer here, replacing this text._"
   ]
  },
  {
   "cell_type": "markdown",
   "metadata": {
    "export_pdf": true
   },
   "source": [
    "**SOLUTION:** The regression line is the unique straight line (in other words, the unique slope/intercept pair) that minimizes RMSE. Thereforce, we can also find the regression line by finding the slope and intercept values that minimize RMSE."
   ]
  },
  {
   "cell_type": "markdown",
   "metadata": {
    "deletable": false,
    "editable": false
   },
   "source": [
    "<!-- END QUESTION -->\n",
    "\n",
    "**Question 17**\n",
    "\n",
    "If we had instead minimized mean squared error (MSE), would we have gotten the same slope and intercept of the minimized root mean squared error (RMSE) results? Assign `same_parameters` to either `True` if you think yes, or `False` if you think no.\n",
    "\n",
    "\n",
    "<!--\n",
    "BEGIN QUESTION\n",
    "name: q1_17\n",
    "manual: false\n",
    "-->"
   ]
  },
  {
   "cell_type": "code",
   "execution_count": 61,
   "metadata": {},
   "outputs": [
    {
     "data": {
      "text/plain": [
       "True"
      ]
     },
     "execution_count": 61,
     "metadata": {},
     "output_type": "execute_result"
    }
   ],
   "source": [
    "same_parameters = True # SOLUTION\n",
    "same_parameters"
   ]
  },
  {
   "cell_type": "code",
   "execution_count": null,
   "metadata": {
    "deletable": false,
    "editable": false
   },
   "outputs": [],
   "source": [
    "grader.check(\"q1_17\")"
   ]
  },
  {
   "cell_type": "markdown",
   "metadata": {},
   "source": [
    "Let's look at the scatter plot of the relationship between mRNA Expression (Affy) and mRNA Expression (RNAseq) again:"
   ]
  },
  {
   "cell_type": "code",
   "execution_count": 64,
   "metadata": {},
   "outputs": [
    {
     "data": {
      "image/png": "[encoded data removed]",
      "text/plain": [
       "<Figure size 360x360 with 1 Axes>"
      ]
     },
     "metadata": {},
     "output_type": "display_data"
    }
   ],
   "source": [
    "pten.scatter(\"mRNA Expression (Affy)\", \"mRNA Expression (RNAseq)\")"
   ]
  },
  {
   "cell_type": "markdown",
   "metadata": {
    "deletable": false,
    "editable": false
   },
   "source": [
    "<!-- BEGIN QUESTION -->\n",
    "\n",
    "**Question 18**\n",
    "\n",
    "Using a linear regression model, would we be able to obtain accurate predictions for most of the points? Explain why or why not.\n",
    "\n",
    "\n",
    "<!--\n",
    "BEGIN QUESTION\n",
    "name: q1_18\n",
    "manual: true\n",
    "-->"
   ]
  },
  {
   "cell_type": "markdown",
   "metadata": {},
   "source": [
    "_Type your answer here, replacing this text._"
   ]
  },
  {
   "cell_type": "markdown",
   "metadata": {
    "export_pdf": true
   },
   "source": [
    "**SOLUTION:** Yes, using linear regression to fit this data is valid because the correlation is high (0.9) as we found, and when we plotted the regression line/line of best fit, it corssed through a majority of the data points.\n",
    "\n",
    "\n",
    "Alternatively, if you answer \"No, ...\", the only valid explanation for why using linear regression to fit this data would be invalid is because of the heteroscedasticity (meaning uneven spread in the errors seen when the fitted values vs actual values) seen with the errors of the fitted line vs acutal values of the data points with an mRNA Expression (Affy) values between 4 and 6. You can read about heteroscedasticity in section 15.5 of the textbook (https://www.inferentialthinking.com/chapters/15/5/Visual_Diagnostics.html#Detecting-Heteroscedasticity)."
   ]
  },
  {
   "cell_type": "markdown",
   "metadata": {},
   "source": [
    "<!-- END QUESTION -->\n",
    "\n",
    "\n",
    "\n",
    "## 2. Properties of Binary Distributions\n"
   ]
  },
  {
   "cell_type": "markdown",
   "metadata": {},
   "source": [
    "Binary distributions arise in regular everyday life, and as data scientists you will encounter them constantly. A binary distribution is a distribution across two categories: such as voting in support of a proposition or voting against it on your local ballot, flipping heads or tails, having heart disease or not having heart disease. Generally we represent 'yes' or `True` as 1, and 'no' or `False` as 0. Binary distributions have some special properties that make working with them especially easy!"
   ]
  },
  {
   "cell_type": "markdown",
   "metadata": {},
   "source": [
    "The intent of this section of the homework is to walk you through these properties, so we decided to make all of the tests for this section public (i.e. there are no hidden tests to worry about for this section only)."
   ]
  },
  {
   "cell_type": "markdown",
   "metadata": {
    "deletable": false,
    "editable": false
   },
   "source": [
    "#### Question 1\n",
    "\n",
    "Let's generate a random binary distribution of 0's and 1's. Assign `binary_options` to the correct array of possible values in a binary distribution (i.e. look at the previous sentence).\n",
    "\n",
    "\n",
    "<!--\n",
    "BEGIN QUESTION\n",
    "name: q2_1\n",
    "manual: false\n",
    "-->"
   ]
  },
  {
   "cell_type": "code",
   "execution_count": 70,
   "metadata": {
    "ExecuteTime": {
     "end_time": "2018-03-20T04:34:23.388186Z",
     "start_time": "2018-03-20T04:34:23.372185Z"
    },
    "manual_problem_id": "sample_with_proportions"
   },
   "outputs": [
    {
     "data": {
      "image/png": "[encoded data removed]",
      "text/plain": [
       "<Figure size 432x288 with 1 Axes>"
      ]
     },
     "metadata": {},
     "output_type": "display_data"
    }
   ],
   "source": [
    "binary_options = make_array(0, 1) # SOLUTION\n",
    "\n",
    "# DON'T DELETE/MODIFY ANY OF THE CODE IN THIS CELL BELOW\n",
    "sample_size = 100\n",
    "binary_sample = np.random.choice(binary_options, sample_size)\n",
    "\n",
    "# Run this to see a histogram of this random distribution.\n",
    "Table().with_columns(\"Value\", make_array(1, 0), \"Number in Sample\", make_array(sum(binary_sample), sample_size - sum(binary_sample))).barh(\"Value\")"
   ]
  },
  {
   "cell_type": "code",
   "execution_count": null,
   "metadata": {
    "deletable": false,
    "editable": false
   },
   "outputs": [],
   "source": [
    "grader.check(\"q2_1\")"
   ]
  },
  {
   "cell_type": "markdown",
   "metadata": {
    "deletable": false,
    "editable": false
   },
   "source": [
    "#### Question 2\n",
    "\n",
    "The first property you should note is that the proportion of ones in a binary distribution is equal to the mean of the distribution. [Think about why this is true](https://www.inferentialthinking.com/chapters/14/1/Properties_of_the_Mean.html#Proportions-are-Means). Complete the following cell to show that this is the case for your `binary_sample`. Assign `number_of_ones` and `number_of_zeros` to the number of `1`'s and the number of `0`'s respectively from your `binary_sample`.\n",
    "\n",
    "\n",
    "<!--\n",
    "BEGIN QUESTION\n",
    "name: q2_2\n",
    "manual: false\n",
    "-->"
   ]
  },
  {
   "cell_type": "code",
   "execution_count": 73,
   "metadata": {
    "ExecuteTime": {
     "end_time": "2018-03-20T04:35:22.190065Z",
     "start_time": "2018-03-20T04:35:21.777769Z"
    },
    "manual_problem_id": "resample_yes_proportions"
   },
   "outputs": [
    {
     "name": "stdout",
     "output_type": "stream",
     "text": [
      "In your binary sample there were 45 ones and 55 zeros. 1*45 + 0*55 = 45\n",
      "The sum of values in your sample was 45, divided by the number of items, 100, gives us a mean of 0.45\n",
      "The proportion of ones in your sample was 45 ones, divided by the number of items, 100, gives us a value of 0.45\n",
      "Those values are equal!\n"
     ]
    }
   ],
   "source": [
    "number_of_ones = np.count_nonzero(binary_sample == 1) # SOLUTION\n",
    "number_of_zeros = np.count_nonzero(binary_sample == 0) # SOLUTION\n",
    "\n",
    "\n",
    "# DON'T DELETE/MODIFY ANY OF THE CODE BELOW IN THIS CELL\n",
    "number_values = len(binary_sample)\n",
    "sum_of_binary_sample = sum(binary_sample)\n",
    "# Remember that the mean is equal to the sum divided by the number of items\n",
    "mean_binary_sample = sum_of_binary_sample / number_values\n",
    "\n",
    "# Don't change this!\n",
    "print(f\"In your binary sample there were {number_of_ones} ones and {number_of_zeros} zeros. 1*{number_of_ones} + 0*{number_of_zeros} = {number_of_ones}\")\n",
    "print(f\"The sum of values in your sample was {sum_of_binary_sample}, divided by the number of items, {number_values}, gives us a mean of {mean_binary_sample}\")\n",
    "print(f\"The proportion of ones in your sample was {number_of_ones} ones, divided by the number of items, {number_values}, gives us a value of {mean_binary_sample}\" )\n",
    "print('Those values are equal!')"
   ]
  },
  {
   "cell_type": "code",
   "execution_count": null,
   "metadata": {
    "deletable": false,
    "editable": false
   },
   "outputs": [],
   "source": [
    "grader.check(\"q2_2\")"
   ]
  },
  {
   "cell_type": "markdown",
   "metadata": {},
   "source": [
    "Since the proportion of ones is the same as the mean, the Central Limit Theorem applies! That is, if we resample our sample a lot of times, the distribution of the proportion of ones in our resamples will be roughly normal, with a predictable center and spread!"
   ]
  },
  {
   "cell_type": "code",
   "execution_count": 76,
   "metadata": {
    "deletable": false,
    "editable": false
   },
   "outputs": [
    {
     "data": {
      "image/png": "[encoded data removed]",
      "text/plain": [
       "<Figure size 432x288 with 1 Axes>"
      ]
     },
     "metadata": {},
     "output_type": "display_data"
    }
   ],
   "source": [
    "# Just run this cell\n",
    "resampled_proportion_of_ones = make_array()\n",
    "\n",
    "for i in np.arange(5000):\n",
    "    resample = Table().with_column(\"Value\", binary_sample).sample()\n",
    "    resample_proportion_ones = resample.where(\"Value\", 1).num_rows / resample.num_rows\n",
    "    resampled_proportion_of_ones = np.append(resampled_proportion_of_ones, resample_proportion_ones)\n",
    "    \n",
    "Table().with_column('Resampled Proportions', resampled_proportion_of_ones).hist()"
   ]
  },
  {
   "cell_type": "markdown",
   "metadata": {},
   "source": [
    "Let's generate a table where each row has a different number of ones and zeros that we'll use for the following parts."
   ]
  },
  {
   "cell_type": "code",
   "execution_count": 77,
   "metadata": {
    "deletable": false,
    "editable": false
   },
   "outputs": [
    {
     "data": {
      "text/html": [
       "<table border=\"1\" class=\"dataframe\">\n",
       "    <thead>\n",
       "        <tr>\n",
       "            <th>Values of One</th> <th>Values of Zero</th>\n",
       "        </tr>\n",
       "    </thead>\n",
       "    <tbody>\n",
       "        <tr>\n",
       "            <td>0            </td> <td>100           </td>\n",
       "        </tr>\n",
       "        <tr>\n",
       "            <td>1            </td> <td>99            </td>\n",
       "        </tr>\n",
       "        <tr>\n",
       "            <td>2            </td> <td>98            </td>\n",
       "        </tr>\n",
       "        <tr>\n",
       "            <td>3            </td> <td>97            </td>\n",
       "        </tr>\n",
       "        <tr>\n",
       "            <td>4            </td> <td>96            </td>\n",
       "        </tr>\n",
       "    </tbody>\n",
       "</table>\n",
       "<p>... (96 rows omitted)</p>"
      ],
      "text/plain": [
       "<IPython.core.display.HTML object>"
      ]
     },
     "metadata": {},
     "output_type": "display_data"
    }
   ],
   "source": [
    "# Just run this cell\n",
    "possible_number_ones = np.arange(sample_size + 1)\n",
    "possible_number_zeros = sample_size - possible_number_ones\n",
    "\n",
    "possibilities_table = Table().with_columns(\"Values of One\", possible_number_ones, \"Values of Zero\", possible_number_zeros)\n",
    "possibilities_table.show(5)"
   ]
  },
  {
   "cell_type": "markdown",
   "metadata": {
    "deletable": false,
    "editable": false
   },
   "source": [
    "#### Question 3\n",
    "The second important property of binary distributions is that the standard deviation of every binary distribution is equal to:\n",
    "$$\\sqrt{\\text{proportion_ones} *\\text{proportion_zeros}}$$\n",
    "\n",
    "While this property is useful in some cases, a more useful extension of this property is that it tells us that the maximum standard deviation for a binary distribution is 0.5!\n",
    "\n",
    "Let's explore why that is the case!\n",
    "\n",
    "Complete the `binary_std_formula` function below so that it returns the standard deviation of a binary distribution according to the formula above.\n",
    "\n",
    "\n",
    "<!--\n",
    "BEGIN QUESTION\n",
    "name: q2_3\n",
    "manual: false\n",
    "-->"
   ]
  },
  {
   "cell_type": "code",
   "execution_count": 79,
   "metadata": {
    "manual_problem_id": "polling_3"
   },
   "outputs": [
    {
     "data": {
      "text/html": [
       "<table border=\"1\" class=\"dataframe\">\n",
       "    <thead>\n",
       "        <tr>\n",
       "            <th>Values of One</th> <th>Values of Zero</th> <th>Formula SD</th>\n",
       "        </tr>\n",
       "    </thead>\n",
       "    <tbody>\n",
       "        <tr>\n",
       "            <td>0            </td> <td>100           </td> <td>0         </td>\n",
       "        </tr>\n",
       "        <tr>\n",
       "            <td>1            </td> <td>99            </td> <td>0.0994987 </td>\n",
       "        </tr>\n",
       "        <tr>\n",
       "            <td>2            </td> <td>98            </td> <td>0.14      </td>\n",
       "        </tr>\n",
       "        <tr>\n",
       "            <td>3            </td> <td>97            </td> <td>0.170587  </td>\n",
       "        </tr>\n",
       "        <tr>\n",
       "            <td>4            </td> <td>96            </td> <td>0.195959  </td>\n",
       "        </tr>\n",
       "    </tbody>\n",
       "</table>\n",
       "<p>... (96 rows omitted)</p>"
      ],
      "text/plain": [
       "<IPython.core.display.HTML object>"
      ]
     },
     "metadata": {},
     "output_type": "display_data"
    }
   ],
   "source": [
    "def binary_std_formula(row):\n",
    "    num_ones = row.item(\"Values of One\")\n",
    "    num_zeros = row.item(\"Values of Zero\")\n",
    "    \n",
    "    sum_ones_and_zeros = num_ones + num_zeros # SOLUTION\n",
    "    prop_ones = num_ones / sum_ones_and_zeros # SOLUTION\n",
    "    prop_zeros = num_zeros / sum_ones_and_zeros # SOLUTION\n",
    "    return np.sqrt(prop_ones * prop_zeros) # SOLUTION\n",
    "\n",
    "# DON'T DELETE/MODIFY ANY OF THE LINES BELOW IN THIS CELL\n",
    "possibilities_table = possibilities_table.with_column(\"Formula SD\", possibilities_table.apply(binary_std_formula))\n",
    "possibilities_table.show(5)"
   ]
  },
  {
   "cell_type": "code",
   "execution_count": null,
   "metadata": {
    "deletable": false,
    "editable": false
   },
   "outputs": [],
   "source": [
    "grader.check(\"q2_3\")"
   ]
  },
  {
   "cell_type": "markdown",
   "metadata": {},
   "source": [
    "Here's another function that takes in a row object from a table, generates a sample that has the same number of ones and zeros as the row specifies, and then returns the standard deviation of that table. You should be able to understand exactly what this function does! It also does the same thing as above, where we return the standard deviation, but we just use `np.std` for this function."
   ]
  },
  {
   "cell_type": "code",
   "execution_count": 83,
   "metadata": {
    "deletable": false,
    "editable": false
   },
   "outputs": [
    {
     "data": {
      "text/html": [
       "<table border=\"1\" class=\"dataframe\">\n",
       "    <thead>\n",
       "        <tr>\n",
       "            <th>Values of One</th> <th>Values of Zero</th> <th>Formula SD</th> <th>Empirical SD</th>\n",
       "        </tr>\n",
       "    </thead>\n",
       "    <tbody>\n",
       "        <tr>\n",
       "            <td>0            </td> <td>100           </td> <td>0         </td> <td>0           </td>\n",
       "        </tr>\n",
       "        <tr>\n",
       "            <td>1            </td> <td>99            </td> <td>0.0994987 </td> <td>0.0994987   </td>\n",
       "        </tr>\n",
       "        <tr>\n",
       "            <td>2            </td> <td>98            </td> <td>0.14      </td> <td>0.14        </td>\n",
       "        </tr>\n",
       "        <tr>\n",
       "            <td>3            </td> <td>97            </td> <td>0.170587  </td> <td>0.170587    </td>\n",
       "        </tr>\n",
       "        <tr>\n",
       "            <td>4            </td> <td>96            </td> <td>0.195959  </td> <td>0.195959    </td>\n",
       "        </tr>\n",
       "    </tbody>\n",
       "</table>\n",
       "<p>... (96 rows omitted)</p>"
      ],
      "text/plain": [
       "<IPython.core.display.HTML object>"
      ]
     },
     "metadata": {},
     "output_type": "display_data"
    }
   ],
   "source": [
    "# Just run this cell\n",
    "def binary_std(row):\n",
    "    values = make_array()\n",
    "    for i in np.arange(row.item(\"Values of One\")):\n",
    "        values = np.append(values, 1)\n",
    "    for i in np.arange(row.item(\"Values of Zero\")):\n",
    "        values = np.append(values, 0)\n",
    "    return np.std(values)\n",
    "\n",
    "possibilities_table = possibilities_table.with_column(\"Empirical SD\", possibilities_table.apply(binary_std))\n",
    "possibilities_table.show(5)"
   ]
  },
  {
   "cell_type": "markdown",
   "metadata": {},
   "source": [
    "All the values are the same! Let's see what this formula means!"
   ]
  },
  {
   "cell_type": "code",
   "execution_count": 84,
   "metadata": {
    "deletable": false,
    "editable": false
   },
   "outputs": [
    {
     "data": {
      "image/png": "[encoded data removed]",
      "text/plain": [
       "<Figure size 360x360 with 1 Axes>"
      ]
     },
     "metadata": {},
     "output_type": "display_data"
    }
   ],
   "source": [
    "# Just run this cell\n",
    "possibilities_table.scatter(\"Values of One\", \"Formula SD\")"
   ]
  },
  {
   "cell_type": "markdown",
   "metadata": {},
   "source": [
    "What a beautiful curve!\n",
    "\n",
    "Looking at that curve, we can see that maximum value is $0.5$, which occurs in the middle of the distribution, when the two categories have equal proportions (proportion of ones = proportion of zeros = $\\frac{1}{2}$)."
   ]
  },
  {
   "cell_type": "markdown",
   "metadata": {},
   "source": [
    "## (OPTIONAL, NOT IN SCOPE) Logarithmic Plots"
   ]
  },
  {
   "cell_type": "markdown",
   "metadata": {},
   "source": [
    "A kind of visualization you will frequently encounter as a data scientist is a scatter plot or line plot that uses a logarithmic scale. This **Optional** section will cover how to read and generate logarithmic plots. Since this is optional, there is no autograded/free response questions for these sections. Just read, run cells, and explore."
   ]
  },
  {
   "cell_type": "markdown",
   "metadata": {},
   "source": [
    "What is a logarithm? A logarithm helps us find the inverse of an equation that uses exponentials. Specifically, if\n",
    "\n",
    "$$a^y = x$$\n",
    "\n",
    "Then\n",
    "\n",
    "$$\\log_a{x} = y$$\n",
    "\n",
    "The most commonly used $a$, which is known as the base of the logarithm, is $e$, which is equivalent to about 2.718, or 10 (for powers of 10).\n",
    "\n",
    "We can use `numpy` to take logs in Python! By default, np.log uses a base of e."
   ]
  },
  {
   "cell_type": "code",
   "execution_count": 85,
   "metadata": {},
   "outputs": [
    {
     "data": {
      "text/plain": [
       "array([1.        , 2.        , 4.60517019])"
      ]
     },
     "execution_count": 85,
     "metadata": {},
     "output_type": "execute_result"
    }
   ],
   "source": [
    "make_array(np.log(np.e), np.log(np.e**2), np.log(100))"
   ]
  },
  {
   "cell_type": "markdown",
   "metadata": {},
   "source": [
    "Back to the visualization: when we are plotting trends that grow exponentially, such as the line\n",
    "\n",
    "$$ y = e^x$$\n",
    "\n",
    "our y-axis needs to have a large range of values, which makes it difficult to understand.\n",
    "\n",
    "Let's see what this looks like:"
   ]
  },
  {
   "cell_type": "code",
   "execution_count": 86,
   "metadata": {},
   "outputs": [
    {
     "data": {
      "image/png": "[encoded data removed]",
      "text/plain": [
       "<Figure size 360x360 with 1 Axes>"
      ]
     },
     "metadata": {},
     "output_type": "display_data"
    }
   ],
   "source": [
    "x = np.arange(0, 10, 1/100)\n",
    "y = 10 ** x\n",
    "\n",
    "Table().with_columns(\"X\", x, \"Y\", y).scatter(0,1)"
   ]
  },
  {
   "cell_type": "markdown",
   "metadata": {},
   "source": [
    "Note that since $10^{10}$ is so big, we can't really see what's happening at all to the y values when they have x values below 8.\n",
    "\n",
    "One solution to this to change our y and/or x axis so that instead of having even spaces between the tick marks, our marks grow by an uneven factor. We do this by making the tick marks go on a logarithmic scale, and we'll then be able to understand our data better!"
   ]
  },
  {
   "cell_type": "code",
   "execution_count": 87,
   "metadata": {},
   "outputs": [
    {
     "data": {
      "image/png": "[encoded data removed]",
      "text/plain": [
       "<Figure size 360x360 with 1 Axes>"
      ]
     },
     "metadata": {},
     "output_type": "display_data"
    }
   ],
   "source": [
    "Table().with_columns(\"X\", x, \"Y\", y).scatter(0,1)\n",
    "plt.yscale(\"log\")"
   ]
  },
  {
   "cell_type": "markdown",
   "metadata": {},
   "source": [
    "Now we can tell what's happening to the y values for every x value!\n",
    "\n",
    "Note how the y values start at $10^0=1$, and increase by a *factor* of $10$ each mark - the next mark is $10^1 = 10$, then $10^2=100$.\n",
    "\n",
    "You still read this plot like a normal plot, so at a value of $x=5, y=10^5=10000$.\n",
    "\n",
    "How do you calculate intermediate values? \n",
    "\n",
    "At a value like $x = 2.5$ it looks like the y value is somewhere in-between $10^1$ and $10^3$. In this graph with a logarithmic scale, you would say that $y=10^{2.5} \\approx 316$."
   ]
  },
  {
   "cell_type": "markdown",
   "metadata": {},
   "source": [
    "When visualizing data about the spread of diseases, you will commonly run into plots with logarithmic scales, such as this example from the New York Times. Make sure to always know what the scales of the data are! \n",
    "\n",
    "<img src=\"virus-log-chart.jpg\" width=\"650\"/>\n",
    "\n",
    "Image is from https://www.nytimes.com/2020/03/20/health/coronavirus-data-logarithm-chart.html"
   ]
  },
  {
   "cell_type": "markdown",
   "metadata": {
    "deletable": false,
    "editable": false
   },
   "source": [
    "---\n",
    "\n",
    "To double-check your work, the cell below will rerun all of the autograder tests."
   ]
  },
  {
   "cell_type": "code",
   "execution_count": null,
   "metadata": {
    "deletable": false,
    "editable": false
   },
   "outputs": [],
   "source": [
    "grader.check_all()"
   ]
  },
  {
   "cell_type": "markdown",
   "metadata": {
    "deletable": false,
    "editable": false
   },
   "source": [
    "## Submission\n",
    "\n",
    "Make sure you have run all cells in your notebook in order before running the cell below, so that all images/graphs appear in the output. The cell below will generate a zip file for you to submit. **Please save before exporting!**"
   ]
  },
  {
   "cell_type": "code",
   "execution_count": null,
   "metadata": {
    "deletable": false,
    "editable": false
   },
   "outputs": [],
   "source": [
    "# Save your notebook first, then run this cell to export your submission.\n",
    "grader.export()"
   ]
  },
  {
   "cell_type": "markdown",
   "metadata": {},
   "source": [
    " "
   ]
  }
 ],
 "metadata": {
  "celltoolbar": "Edit Metadata",
  "kernelspec": {
   "display_name": "Python 3",
   "language": "python",
   "name": "python3"
  },
  "language_info": {
   "codemirror_mode": {
    "name": "ipython",
    "version": 3
   },
   "file_extension": ".py",
   "mimetype": "text/x-python",
   "name": "python",
   "nbconvert_exporter": "python",
   "pygments_lexer": "ipython3",
   "version": "3.7.1"
  }
 },
 "nbformat": 4,
 "nbformat_minor": 1
}
