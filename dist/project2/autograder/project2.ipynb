{
 "cells": [
  {
   "cell_type": "code",
   "execution_count": null,
   "metadata": {
    "deletable": false,
    "editable": false
   },
   "outputs": [],
   "source": [
    "# Initialize Otter\n",
    "import otter\n",
    "grader = otter.Notebook(\"project2.ipynb\")"
   ]
  },
  {
   "cell_type": "markdown",
   "metadata": {},
   "source": [
    "# Project 2: Cardiovascular Disease: Causes, Treatment, and Prevention"
   ]
  },
  {
   "cell_type": "markdown",
   "metadata": {},
   "source": [
    "In this project, you will investigate the major causes of death in the world: cardiovascular disease! "
   ]
  },
  {
   "cell_type": "markdown",
   "metadata": {},
   "source": [
    "### Logistics\n",
    "\n",
    "\n",
    "**Deadline.** This project is due at 11:59pm on Friday, 04/17. It's **much** better to be early than late, so start working now.\n",
    "\n",
    "**Checkpoint.** For full credit, you must complete 2 checkpoints. For checkpoint 1, you must complete the questions up until the end of Part 2, pass all public autograders, and submit them by 11:59pm on Friday 04/03. For checkpoint 2, you must complete the questions up until the end of Part 3, pass all public autograders, and submit them by 11:59pm on Friday 04/10.\n",
    "\n",
    "**Partners.** You may work with one other partner. Your partner must be enrolled in the same lab as you are. Only one of you is required to submit the project. On [okpy.org](http://okpy.org), the person who submits should also designate their partner so that both of you receive credit.\n",
    "\n",
    "**Rules.** Don't share your code with anybody but your partner. You are welcome to discuss questions with other students, but don't share the answers. The experience of solving the problems in this project will prepare you for exams (and life). If someone asks you for the answer, resist! Instead, you can demonstrate how you would solve a similar problem.\n",
    "\n",
    "**Support.** You are not alone! Come to office hours, post on Piazza, and talk to your classmates. If you want to ask about the details of your solution to a problem, make a private Piazza post and the staff will respond. If you're ever feeling overwhelmed or don't know how to make progress, email your TA or tutor for help. You can find contact information for the staff on the [course website](http://data8.org/sp19/staff.html).\n",
    "\n",
    "**Tests.** Passing the tests for a question **does not** mean that you answered the question correctly. Tests usually only check that your table has the correct column labels. However, more tests will be applied to verify the correctness of your submission in order to assign your final score, so be careful and check your work!\n",
    "\n",
    "**Advice.** Develop your answers incrementally. To perform a complicated table manipulation, break it up into steps, perform each step on a different line, give a new name to each result, and check that each intermediate result is what you expect. You can add any additional names or functions you want to the provided cells. \n",
    "\n",
    "All of the concepts necessary for this project are found in the textbook. If you are stuck on a particular problem, reading through the relevant textbook section often will help clarify the concept.\n",
    "\n",
    "To get started, load `datascience`, `numpy`, `plots`, and `ok`."
   ]
  },
  {
   "cell_type": "code",
   "execution_count": 2,
   "metadata": {},
   "outputs": [],
   "source": [
    "from datascience import *\n",
    "import numpy as np\n",
    "\n",
    "%matplotlib inline\n",
    "import matplotlib.pyplot as plots\n",
    "plots.style.use('fivethirtyeight')\n",
    "np.set_printoptions(legacy='1.13')\n"
   ]
  },
  {
   "cell_type": "markdown",
   "metadata": {},
   "source": [
    "In the following analysis, we will investigate the world's most dangerous killer: Cardiovascular Disease. Your investigation will take you across decades of medical research, and you'll look at multiple causes and effects across four different studies."
   ]
  },
  {
   "cell_type": "markdown",
   "metadata": {},
   "source": [
    "Here is a roadmap for this project:\n",
    "\n",
    "* In Part 1, we'll investigate the major causes of death in the world during the past century (from 1900 to 2015).\n",
    "* In Part 2, we'll look at data from the Framingham Heart Study, an observational study into cardiovascular health.\n",
    "* In Part 3, we'll examine the effect that hormone replacement therapy has on the risk of coronary heart disease for post-menopausal women using data from the Nurses' Heart Study and Heart and Estrogen-Progestin Replacement Study.\n",
    "* In Part 4, we'll explore the effect that the consumption of saturated fats has on cardiovascular death rates using data from the National Heart-Diet Study"
   ]
  },
  {
   "cell_type": "markdown",
   "metadata": {},
   "source": [
    "## Part 1: Causes of Death "
   ]
  },
  {
   "cell_type": "markdown",
   "metadata": {},
   "source": [
    "In order to get a better idea of how we can most effectively prevent deaths, we need to first figure out what the major causes of death are. Run the following cell to read in and view the `causes_of_death` table, which documents the death rate for major causes of deaths over the last century (1900 until 2015)."
   ]
  },
  {
   "cell_type": "code",
   "execution_count": 3,
   "metadata": {
    "scrolled": true
   },
   "outputs": [
    {
     "data": {
      "text/html": [
       "<table border=\"1\" class=\"dataframe\">\n",
       "    <thead>\n",
       "        <tr>\n",
       "            <th>Year</th> <th>Cause</th> <th>Age Adjusted Death Rate</th>\n",
       "        </tr>\n",
       "    </thead>\n",
       "    <tbody>\n",
       "        <tr>\n",
       "            <td>2015</td> <td>Heart Disease          </td> <td>168.5                  </td>\n",
       "        </tr>\n",
       "        <tr>\n",
       "            <td>2015</td> <td>Cancer                 </td> <td>158.5                  </td>\n",
       "        </tr>\n",
       "        <tr>\n",
       "            <td>2015</td> <td>Stroke                 </td> <td>37.6                   </td>\n",
       "        </tr>\n",
       "        <tr>\n",
       "            <td>2015</td> <td>Accidents              </td> <td>43.2                   </td>\n",
       "        </tr>\n",
       "        <tr>\n",
       "            <td>2015</td> <td>Influenza and Pneumonia</td> <td>15.2                   </td>\n",
       "        </tr>\n",
       "    </tbody>\n",
       "</table>\n",
       "<p>... (575 rows omitted)</p>"
      ],
      "text/plain": [
       "<IPython.core.display.HTML object>"
      ]
     },
     "metadata": {},
     "output_type": "display_data"
    }
   ],
   "source": [
    "causes_of_death = Table.read_table('causes_of_death.csv')\n",
    "causes_of_death.show(5)"
   ]
  },
  {
   "cell_type": "markdown",
   "metadata": {},
   "source": [
    "Each entry in the column **Age Adjusted Death Rate** is a death rate for a specific **Year** and **Cause** of death. \n",
    "\n",
    "If we look at unadjusted data, the age distributions of each sample will influence death rates. In an older population, we would expect death rates to be higher for all causes since old age is associated with higher risk of death. To compare death rates without worrying about differences in the demographics of our populations, we adjust the data for age.\n",
    "\n",
    "The **Age Adjusted** specification in the death rate column tells us that the values shown are the death rates that would have existed if the population under study in a specific year had the same age distribution as the \"standard\" population, a baseline. \n",
    "\n",
    "You aren't responsible for knowing how to do this adjustment, but should understand why we adjust for age and what the consequences of working with unadjusted data would be. "
   ]
  },
  {
   "cell_type": "markdown",
   "metadata": {
    "deletable": false,
    "editable": false
   },
   "source": [
    "**Question 1:** What are all the different causes of death in this dataset? Assign an array of all the unique causes of death to `all_unique_causes`.\n",
    "\n",
    "\n",
    "<!--\n",
    "BEGIN QUESTION\n",
    "name: q1_1\n",
    "manual: false\n",
    "-->"
   ]
  },
  {
   "cell_type": "code",
   "execution_count": 4,
   "metadata": {
    "manual_problem_id": "part_1_unique_causes"
   },
   "outputs": [
    {
     "data": {
      "text/plain": [
       "['Accidents', 'Cancer', 'Heart Disease', 'Influenza and Pneumonia', 'Stroke']"
      ]
     },
     "execution_count": 4,
     "metadata": {},
     "output_type": "execute_result"
    }
   ],
   "source": [
    "all_unique_causes = causes_of_death.group('Cause').column(0) # SOLUTION\n",
    "sorted(all_unique_causes)"
   ]
  },
  {
   "cell_type": "code",
   "execution_count": null,
   "metadata": {
    "deletable": false,
    "editable": false
   },
   "outputs": [],
   "source": [
    "grader.check(\"q1_1\")"
   ]
  },
  {
   "cell_type": "markdown",
   "metadata": {
    "deletable": false,
    "editable": false
   },
   "source": [
    "**Question 2:** We would like to plot the death rate for each disease over time. To do so, we must create a table with one column for each cause and one row for each year.\n",
    "\n",
    "Create a table called `causes_for_plotting`. It should have one column called `Year`, and then a column with age-adjusted death rates for each of the causes you found in Question 1. There should be as many of these columns in `causes_for_plotting` as there are causes in Question 1.\n",
    "\n",
    "*Hint*: Use `pivot`, and think about how the `first` function might be useful in getting the **Age Adjusted Death Rate** for each cause and year combination.\n",
    "\n",
    "<!--\n",
    "BEGIN QUESTION\n",
    "name: q1_2\n",
    "manual: false\n",
    "-->"
   ]
  },
  {
   "cell_type": "code",
   "execution_count": 7,
   "metadata": {},
   "outputs": [],
   "source": [
    "# This function may be useful for Question 2.\n",
    "def first(x):\n",
    "    return x.item(0)"
   ]
  },
  {
   "cell_type": "code",
   "execution_count": 8,
   "metadata": {
    "for_assignment_type": "student",
    "manual_problem_id": "part_1_plot_causes"
   },
   "outputs": [
    {
     "data": {
      "text/html": [
       "<table border=\"1\" class=\"dataframe\">\n",
       "    <thead>\n",
       "        <tr>\n",
       "            <th>Year</th> <th>Accidents</th> <th>Cancer</th> <th>Heart Disease</th> <th>Influenza and Pneumonia</th> <th>Stroke</th>\n",
       "        </tr>\n",
       "    </thead>\n",
       "    <tbody>\n",
       "        <tr>\n",
       "            <td>1900</td> <td>90.3     </td> <td>114.8 </td> <td>265.4        </td> <td>297.5                  </td> <td>244.2 </td>\n",
       "        </tr>\n",
       "        <tr>\n",
       "            <td>1901</td> <td>109.3    </td> <td>118.1 </td> <td>272.6        </td> <td>312.9                  </td> <td>243.6 </td>\n",
       "        </tr>\n",
       "        <tr>\n",
       "            <td>1902</td> <td>93.6     </td> <td>119.7 </td> <td>285.2        </td> <td>219.3                  </td> <td>237.8 </td>\n",
       "        </tr>\n",
       "        <tr>\n",
       "            <td>1903</td> <td>106.9    </td> <td>125.2 </td> <td>304.5        </td> <td>251.1                  </td> <td>244.6 </td>\n",
       "        </tr>\n",
       "        <tr>\n",
       "            <td>1904</td> <td>112.8    </td> <td>127.9 </td> <td>331.5        </td> <td>291.2                  </td> <td>255.2 </td>\n",
       "        </tr>\n",
       "    </tbody>\n",
       "</table>\n",
       "<p>... (111 rows omitted)</p>"
      ],
      "text/plain": [
       "<IPython.core.display.HTML object>"
      ]
     },
     "metadata": {},
     "output_type": "display_data"
    }
   ],
   "source": [
    "causes_for_plotting = causes_of_death.pivot('Cause', 'Year', values = 'Age Adjusted Death Rate', collect = first) # SOLUTION\n",
    "causes_for_plotting.show(5)"
   ]
  },
  {
   "cell_type": "markdown",
   "metadata": {},
   "source": [
    "Let's take a look at how age-adjusted death rates have changed across different causes over time. Run the cell below to compare Heart Disease (a chronic disease) and Influenza and Pneumonia (infectious diseases)."
   ]
  },
  {
   "cell_type": "code",
   "execution_count": 9,
   "metadata": {},
   "outputs": [
    {
     "data": {
      "image/png": "[encoded data removed]",
      "text/plain": [
       "<Figure size 432x432 with 1 Axes>"
      ]
     },
     "metadata": {},
     "output_type": "display_data"
    }
   ],
   "source": [
    "causes_for_plotting.select('Year', \"Heart Disease\", \"Influenza and Pneumonia\").plot('Year')"
   ]
  },
  {
   "cell_type": "markdown",
   "metadata": {
    "deletable": false,
    "editable": false
   },
   "source": [
    "**Question 3:** Beginning in 1900 and continuing until 1950, we observe that death rates for Influenza and Pneumonia decrease while death rates for Heart Disease increase. What might have caused this shift?\n",
    "\n",
    "Assign `disease_trend_explanation` to an array of integers that correspond to possible explanations for these trends.\n",
    "\n",
    "1. People are living longer, allowing more time for chronic conditions to develop. \n",
    "2. A cure has not been discovered for influenza, so people are still dying at high rates from the flu.\n",
    "3. Improvements in sanitation, hygiene, and nutrition have reduced the transmission of viruses and bacteria that cause infectious diseases.\n",
    "4. People are more active, putting them at lower risk for conditions like heart disease and diabetes.\n",
    "5. Widespread adoption of vaccinations has reduced rates of infectious disease.\n",
    "6. The medical community has became more aware of chronic conditions, leading to more people being diagnosed with heart disease.\n",
    "\n",
    "*Hint:* Consider what contributes to the development of these diseases. What decreases the transmission of infections? Why do we see more lifestyle-related conditions like heart disease?\n",
    "\n",
    "<!--\n",
    "BEGIN QUESTION\n",
    "name: q1_3\n",
    "manual: false\n",
    "-->"
   ]
  },
  {
   "cell_type": "code",
   "execution_count": 10,
   "metadata": {},
   "outputs": [
    {
     "data": {
      "text/plain": [
       "array([1, 3, 5, 6], dtype=int64)"
      ]
     },
     "execution_count": 10,
     "metadata": {},
     "output_type": "execute_result"
    }
   ],
   "source": [
    "disease_trend_explanation = make_array(1, 3, 5, 6) # SOLUTION\n",
    "disease_trend_explanation"
   ]
  },
  {
   "cell_type": "code",
   "execution_count": null,
   "metadata": {
    "deletable": false,
    "editable": false
   },
   "outputs": [],
   "source": [
    "grader.check(\"q1_3\")"
   ]
  },
  {
   "cell_type": "markdown",
   "metadata": {},
   "source": [
    "This phenomenon is known as the epidemiological transition - in developed countries, the severity of infectious disease has decreased, but chronic disease has become more widespread. Coronary heart disease (CHD) is one of the most deadly chronic diseases that has emerged in the past century, and more healthcare resources have been invested to studying it.\n",
    "\n",
    "Run the cell below to see what a plot of the data would have looked like had you been living in 1950. CHD was the leading cause of death and had killed millions of people without warning. It had become twice as lethal in just a few decades and people didn't understand why this was happening."
   ]
  },
  {
   "cell_type": "code",
   "execution_count": 13,
   "metadata": {},
   "outputs": [
    {
     "data": {
      "image/png": "[encoded data removed]",
      "text/plain": [
       "<Figure size 432x432 with 1 Axes>"
      ]
     },
     "metadata": {},
     "output_type": "display_data"
    }
   ],
   "source": [
    "# Do not change this line\n",
    "causes_for_plotting.where('Year', are.below_or_equal_to(1950)).plot('Year')"
   ]
  },
  {
   "cell_type": "markdown",
   "metadata": {},
   "source": [
    "The view from 2016 looks a lot less scary, however, since we know it eventually went down. The decline in CHD deaths is one of the greatest public health triumphs of the last half century. That decline represents many millions of saved lives, and it was not inevitable. The Framingham Heart Study, in particular, was the first to discover the associations between heart disease and risk factors like smoking, high cholesterol, high blood pressure, obesity, and lack of exercise."
   ]
  },
  {
   "cell_type": "code",
   "execution_count": 14,
   "metadata": {
    "for_assignment_type": "solution",
    "scrolled": true
   },
   "outputs": [
    {
     "data": {
      "image/png": "[encoded data removed]",
      "text/plain": [
       "<Figure size 432x432 with 1 Axes>"
      ]
     },
     "metadata": {},
     "output_type": "display_data"
    }
   ],
   "source": [
    "# Do not change this line\n",
    "causes_for_plotting.plot('Year')"
   ]
  },
  {
   "cell_type": "markdown",
   "metadata": {},
   "source": [
    "Let's examine the graph above. You'll see that in the 1960s, the death rate due to heart disease steadily declines. Up until then, the effects of smoking, blood pressure, and diet on the cardiovascular system were unknown to researchers. Once these factors started to be noticed, doctors were able recommend a lifestyle change for at-risk patients to prevent heart attacks and heart problems.\n",
    "\n",
    "Note, however, that the death rate for heart disease is still higher than the death rates of all other causes. Even though the death rate is starkly decreasing, there's still a lot we don't understand about the causes (both direct and indirect) of heart disease."
   ]
  },
  {
   "cell_type": "markdown",
   "metadata": {},
   "source": [
    "## Part 2: The Framingham Heart Study"
   ]
  },
  {
   "cell_type": "markdown",
   "metadata": {},
   "source": [
    "The [Framingham Heart Study](https://en.wikipedia.org/wiki/Framingham_Heart_Study) is an observational study of cardiovascular health. The initial study followed over 5,000 volunteers for several decades, and followup studies even looked at their descendants. In this section, we'll investigate some of the study's key findings about cholesterol and heart disease.\n",
    "\n",
    "Run the cell below to examine data for 3842 subjects from the first wave of the study, collected in 1956."
   ]
  },
  {
   "cell_type": "code",
   "execution_count": 15,
   "metadata": {},
   "outputs": [
    {
     "data": {
      "text/html": [
       "<table border=\"1\" class=\"dataframe\">\n",
       "    <thead>\n",
       "        <tr>\n",
       "            <th>AGE</th> <th>SYSBP</th> <th>DIABP</th> <th>TOTCHOL</th> <th>CURSMOKE</th> <th>DIABETES</th> <th>GLUCOSE</th> <th>DEATH</th> <th>ANYCHD</th>\n",
       "        </tr>\n",
       "    </thead>\n",
       "    <tbody>\n",
       "        <tr>\n",
       "            <td>39  </td> <td>106  </td> <td>70   </td> <td>195    </td> <td>0       </td> <td>0       </td> <td>77     </td> <td>0    </td> <td>1     </td>\n",
       "        </tr>\n",
       "        <tr>\n",
       "            <td>46  </td> <td>121  </td> <td>81   </td> <td>250    </td> <td>0       </td> <td>0       </td> <td>76     </td> <td>0    </td> <td>0     </td>\n",
       "        </tr>\n",
       "        <tr>\n",
       "            <td>48  </td> <td>127.5</td> <td>80   </td> <td>245    </td> <td>1       </td> <td>0       </td> <td>70     </td> <td>0    </td> <td>0     </td>\n",
       "        </tr>\n",
       "        <tr>\n",
       "            <td>61  </td> <td>150  </td> <td>95   </td> <td>225    </td> <td>1       </td> <td>0       </td> <td>103    </td> <td>1    </td> <td>0     </td>\n",
       "        </tr>\n",
       "        <tr>\n",
       "            <td>46  </td> <td>130  </td> <td>84   </td> <td>285    </td> <td>1       </td> <td>0       </td> <td>85     </td> <td>0    </td> <td>0     </td>\n",
       "        </tr>\n",
       "        <tr>\n",
       "            <td>43  </td> <td>180  </td> <td>110  </td> <td>228    </td> <td>0       </td> <td>0       </td> <td>99     </td> <td>0    </td> <td>1     </td>\n",
       "        </tr>\n",
       "        <tr>\n",
       "            <td>63  </td> <td>138  </td> <td>71   </td> <td>205    </td> <td>0       </td> <td>0       </td> <td>85     </td> <td>0    </td> <td>1     </td>\n",
       "        </tr>\n",
       "        <tr>\n",
       "            <td>45  </td> <td>100  </td> <td>71   </td> <td>313    </td> <td>1       </td> <td>0       </td> <td>78     </td> <td>0    </td> <td>0     </td>\n",
       "        </tr>\n",
       "        <tr>\n",
       "            <td>52  </td> <td>141.5</td> <td>89   </td> <td>260    </td> <td>0       </td> <td>0       </td> <td>79     </td> <td>0    </td> <td>0     </td>\n",
       "        </tr>\n",
       "        <tr>\n",
       "            <td>43  </td> <td>162  </td> <td>107  </td> <td>225    </td> <td>1       </td> <td>0       </td> <td>88     </td> <td>0    </td> <td>0     </td>\n",
       "        </tr>\n",
       "    </tbody>\n",
       "</table>\n",
       "<p>... (3832 rows omitted)</p>"
      ],
      "text/plain": [
       "AGE  | SYSBP | DIABP | TOTCHOL | CURSMOKE | DIABETES | GLUCOSE | DEATH | ANYCHD\n",
       "39   | 106   | 70    | 195     | 0        | 0        | 77      | 0     | 1\n",
       "46   | 121   | 81    | 250     | 0        | 0        | 76      | 0     | 0\n",
       "48   | 127.5 | 80    | 245     | 1        | 0        | 70      | 0     | 0\n",
       "61   | 150   | 95    | 225     | 1        | 0        | 103     | 1     | 0\n",
       "46   | 130   | 84    | 285     | 1        | 0        | 85      | 0     | 0\n",
       "43   | 180   | 110   | 228     | 0        | 0        | 99      | 0     | 1\n",
       "63   | 138   | 71    | 205     | 0        | 0        | 85      | 0     | 1\n",
       "45   | 100   | 71    | 313     | 1        | 0        | 78      | 0     | 0\n",
       "52   | 141.5 | 89    | 260     | 0        | 0        | 79      | 0     | 0\n",
       "43   | 162   | 107   | 225     | 1        | 0        | 88      | 0     | 0\n",
       "... (3832 rows omitted)"
      ]
     },
     "execution_count": 15,
     "metadata": {},
     "output_type": "execute_result"
    }
   ],
   "source": [
    "framingham = Table.read_table('framingham.csv')\n",
    "framingham"
   ]
  },
  {
   "cell_type": "markdown",
   "metadata": {},
   "source": [
    "Each row contains data from one subject. The first seven columns describe the subject at the time of their initial medical exam at the start of the study. The last column, `ANYCHD`, tells us whether the subject developed some form of heart disease at any point after the start of the study.\n",
    "\n",
    "You may have noticed that the table contains fewer rows than subjects in the original study - we are excluding subjects who already had heart disease or had missing data."
   ]
  },
  {
   "cell_type": "markdown",
   "metadata": {},
   "source": [
    "### Section 1: Diabetes and the Population"
   ]
  },
  {
   "cell_type": "markdown",
   "metadata": {},
   "source": [
    "Before we begin our investigation into cholesterol, we'll first look at some limitations of this dataset. In particular, we will investigate ways in which this is or isn't a representative sample of the population by examining the number of subjects with diabetes.\n",
    "\n",
    "[According to the CDC](https://www.cdc.gov/diabetes/statistics/slides/long_term_trends.pdf), the prevalence of diagnosed diabetes (i.e., the percentage of the population who have it) in the U.S. around this time was 0.93%. We are going to conduct a hypothesis test with the following null and alternative hypotheses:\n",
    "\n",
    "**Null Hypothesis**: The probability that a participant within the Framingham Study has diabetes is equivalent to the prevalence of diagnosed diabetes within the population. (i.e., any difference is due to chance).\n",
    "\n",
    "**Alternative Hypothesis**: The probability that a participant within the Framingham Study has diabetes is different than the prevalence of diagnosed diabetes within the population.\n",
    "\n",
    "We are going to use the absolute distance between the observed prevalence and the true population prevalence as our test statistic. The column `DIABETES` in the `framingham` table contains a 1 for subjects with diabetes and a `0` for those without."
   ]
  },
  {
   "cell_type": "markdown",
   "metadata": {
    "deletable": false,
    "editable": false
   },
   "source": [
    "**Question 1**: What is the observed value of the statistic in the data from the Framingham Study? You should convert prevalence values to proportions before calculating the statistic!\n",
    "\n",
    "<!--\n",
    "BEGIN QUESTION\n",
    "name: q2_1_1\n",
    "manual: false\n",
    "-->"
   ]
  },
  {
   "cell_type": "code",
   "execution_count": 16,
   "metadata": {
    "for_assignment_type": "solution"
   },
   "outputs": [
    {
     "data": {
      "text/plain": [
       "0.018029515877147319"
      ]
     },
     "execution_count": 16,
     "metadata": {},
     "output_type": "execute_result"
    }
   ],
   "source": [
    "observed_diabetes_distance = abs(np.mean(framingham.column('DIABETES')) - 0.0093) # SOLUTION\n",
    "observed_diabetes_distance"
   ]
  },
  {
   "cell_type": "code",
   "execution_count": null,
   "metadata": {
    "deletable": false,
    "editable": false
   },
   "outputs": [],
   "source": [
    "grader.check(\"q2_1_1\")"
   ]
  },
  {
   "cell_type": "markdown",
   "metadata": {
    "deletable": false,
    "editable": false
   },
   "source": [
    "**Question 2**: Define the function `diabetes_statistic` which should return exactly one simulated statistic of the absolute distance between the observed prevalence and the true population prevalence under the null hypothesis. Make sure that your simulated sample is the same size as your original sample.\n",
    "\n",
    "*Hint:* The array `diabetes_proportions` contains the proportions of the population without and with diabetes, respectively.\n",
    "\n",
    "<!--\n",
    "BEGIN QUESTION\n",
    "name: q2_1_2\n",
    "manual: false\n",
    "-->"
   ]
  },
  {
   "cell_type": "code",
   "execution_count": 19,
   "metadata": {},
   "outputs": [],
   "source": [
    "diabetes_proportions = make_array(0.9907, 0.0093)\n",
    "\n",
    "def diabetes_statistic():\n",
    "    # BEGIN SOLUTION\n",
    "    prop_diabetic = sample_proportions(3842, diabetes_proportions).item(1)\n",
    "    simulated_stat = abs(0.0093 - prop_diabetic)\n",
    "    return simulated_stat\n",
    "    # END SOLUTION"
   ]
  },
  {
   "cell_type": "code",
   "execution_count": null,
   "metadata": {
    "deletable": false,
    "editable": false
   },
   "outputs": [],
   "source": [
    "grader.check(\"q2_1_2\")"
   ]
  },
  {
   "cell_type": "markdown",
   "metadata": {
    "deletable": false,
    "editable": false
   },
   "source": [
    "**Question 3**:  Complete the following code to simulate 5000 values of the statistic under the null hypothesis.\n",
    "\n",
    "<!--\n",
    "BEGIN QUESTION\n",
    "name: q2_1_3\n",
    "manual: false\n",
    "-->"
   ]
  },
  {
   "cell_type": "code",
   "execution_count": 22,
   "metadata": {
    "for_assignment_type": "solution"
   },
   "outputs": [
    {
     "data": {
      "text/plain": [
       "array([  7.01197293e-05,   2.01212910e-03,   9.71004685e-04, ...,\n",
       "         5.90681936e-04,   7.01197293e-05,   1.63180635e-03])"
      ]
     },
     "execution_count": 22,
     "metadata": {},
     "output_type": "execute_result"
    }
   ],
   "source": [
    "diabetes_simulated_stats = make_array()\n",
    "\n",
    "for i in np.arange(5000): \n",
    "    # BEGIN SOLUTION\n",
    "    simulated_stat = diabetes_statistic()\n",
    "    diabetes_simulated_stats = np.append(diabetes_simulated_stats, simulated_stat)\n",
    "    # END SOLUTION\n",
    "    \n",
    "diabetes_simulated_stats"
   ]
  },
  {
   "cell_type": "code",
   "execution_count": null,
   "metadata": {
    "deletable": false,
    "editable": false
   },
   "outputs": [],
   "source": [
    "grader.check(\"q2_1_3\")"
   ]
  },
  {
   "cell_type": "markdown",
   "metadata": {
    "deletable": false,
    "editable": false
   },
   "source": [
    "<!-- BEGIN QUESTION -->\n",
    "\n",
    "**Question 4**: Run the following cell to generate a histogram of the simulated values of your statistic, along with the observed value.\n",
    "\n",
    "*If you're not sure if your histogram is correct, think about how we're generating the sample statistics under the null, and what those statistics will look like*\n",
    "\n",
    "*Make sure to run the cell that draws the histogram, since it will be graded.*\n",
    "\n",
    "<!--\n",
    "BEGIN QUESTION\n",
    "name: q2_1_4\n",
    "manual: true\n",
    "-->"
   ]
  },
  {
   "cell_type": "code",
   "execution_count": 24,
   "metadata": {
    "export_pdf": true
   },
   "outputs": [
    {
     "name": "stderr",
     "output_type": "stream",
     "text": [
      "C:\\Users\\Anderson\\Anaconda3\\lib\\site-packages\\datascience\\tables.py:5206: UserWarning: FixedFormatter should only be used together with FixedLocator\n",
      "  axis.set_xticklabels(ticks, rotation='vertical')\n"
     ]
    },
    {
     "data": {
      "image/png": "[encoded data removed]",
      "text/plain": [
       "<Figure size 432x288 with 1 Axes>"
      ]
     },
     "metadata": {},
     "output_type": "display_data"
    }
   ],
   "source": [
    "Table().with_column('Simulated distance to true prevalence', diabetes_simulated_stats).hist()\n",
    "plots.scatter(observed_diabetes_distance, 0, color='red', s=30);"
   ]
  },
  {
   "cell_type": "markdown",
   "metadata": {
    "deletable": false,
    "editable": false
   },
   "source": [
    "<!-- END QUESTION -->\n",
    "\n",
    "<!-- BEGIN QUESTION -->\n",
    "\n",
    "**Question 5**: Based on the historgram above, should you reject the null hypothesis?\n",
    "\n",
    "<!--\n",
    "BEGIN QUESTION\n",
    "name: q2_1_5\n",
    "manual: true\n",
    "-->\n"
   ]
  },
  {
   "cell_type": "markdown",
   "metadata": {},
   "source": [
    "_Type your answer here, replacing this text._"
   ]
  },
  {
   "cell_type": "markdown",
   "metadata": {
    "export_pdf": true,
    "manual_problem_id": "part_2_null"
   },
   "source": [
    "**SOLUTION:** Yes, we should reject the null hypothesis. Just from observing the empirical distribution of the test statistic, we are able to see that our computed p-value would be 0, as none of our simulated test statistics under the null are as extreme or more extreme than our observed test statistic. We can clearly see that our observed test statistic is not consistent with the null hypothesis. "
   ]
  },
  {
   "cell_type": "markdown",
   "metadata": {
    "deletable": false,
    "editable": false
   },
   "source": [
    "<!-- END QUESTION -->\n",
    "\n",
    "**Question 6**: Why might there be a difference between the population and the sample from the Framingham Study? Assuming that all these statements are true - what are possible explanations for the higher diabetes prevalence in the Framingham population?\n",
    "\n",
    "Assign the name `framingham_diabetes_explanations` to an array of the following explanations that **are consistent** with the trends we observe in the data and our hypothesis test results. \n",
    "\n",
    "1. Diabetes was under-diagnosed in the population (i.e., there were a lot of people in the population who had diabetes but weren't diagnosed). By contrast, the Framingham participants were less likely to go undiagnosed because they had regular medical examinations as part of the study.\n",
    "2. The relatively wealthy population in Framingham ate a luxurious diet high in sugar (high-sugar diets are a known cause of diabetes).\n",
    "3. The Framingham Study subjects were older on average than the general population, and therefore more likely to have diabetes.\n",
    "\n",
    "<!--\n",
    "BEGIN QUESTION\n",
    "name: q2_1_6\n",
    "manual: false\n",
    "-->"
   ]
  },
  {
   "cell_type": "code",
   "execution_count": 25,
   "metadata": {
    "manual_problem_id": "part_2_explanations"
   },
   "outputs": [
    {
     "data": {
      "text/plain": [
       "array([1, 2, 3], dtype=int64)"
      ]
     },
     "execution_count": 25,
     "metadata": {},
     "output_type": "execute_result"
    }
   ],
   "source": [
    "framingham_diabetes_explanations = make_array(1, 2, 3) # SOLUTION\n",
    "framingham_diabetes_explanations"
   ]
  },
  {
   "cell_type": "code",
   "execution_count": null,
   "metadata": {
    "deletable": false,
    "editable": false
   },
   "outputs": [],
   "source": [
    "grader.check(\"q2_1_6\")"
   ]
  },
  {
   "cell_type": "markdown",
   "metadata": {},
   "source": [
    "In real-world studies, getting a truly representative random sample of the population is often incredibly difficult. Even just to accurately represent all Americans, a truly random sample would need to examine people across geographical, socioeconomic, community, and class lines (just to name a few). For a study like this, scientists would also need to make sure the medical exams were standardized and consistent across the different people being examined. In other words, there's a tradeoff between taking a more representative random sample and the cost of collecting more information from each person in the sample.\n",
    "\n",
    "The Framingham study collected high-quality medical data from its subjects, even if the subjects may not be a perfect representation of the population of all Americans. This is a common issue that data scientists face: while the available data aren't perfect, they're the best we have. The Framingham study is generally considered the best in its class, so we'll continue working with it while keeping its limitations in mind.\n",
    "\n",
    "(For more on representation in medical study samples, you can read these recent articles from [NPR](https://www.npr.org/sections/health-shots/2015/12/16/459666750/clinical-trials-still-dont-reflect-the-diversity-of-america) and [Scientific American](https://www.scientificamerican.com/article/clinical-trials-have-far-too-little-racial-and-ethnic-diversity/))."
   ]
  },
  {
   "cell_type": "markdown",
   "metadata": {},
   "source": [
    "### Section 2: Cholesterol and Heart Disease"
   ]
  },
  {
   "cell_type": "markdown",
   "metadata": {},
   "source": [
    "In the remainder of this question, we are going to examine one of the main findings of the Framingham study: an association between serum cholesterol (i.e., how much cholesterol is in someone's blood) and whether or not that person develops heart disease.\n",
    "\n",
    "We'll use the following null and alternative hypotheses:\n",
    "\n",
    "**Null Hypothesis:** In the population, the distribution of cholesterol levels among those who get heart disease is the same as the distribution of cholesterol levels\n",
    "among those who do not.\n",
    "\n",
    "**Alternative Hypothesis:** The cholesterol levels of people in the population who get\n",
    "heart disease are higher, on average, than the cholesterol level of people who do not."
   ]
  },
  {
   "cell_type": "markdown",
   "metadata": {
    "deletable": false,
    "editable": false
   },
   "source": [
    "**Question 1:** From the provided Null and Alternative Hypotheses, does it seem reasonable to use A/B Testing to determine which model is more consistent? Assign the variable `ab_reasonable` to `True` if it seems reasonable and `False` otherwise.\n",
    "\n",
    "<!--\n",
    "BEGIN QUESTION\n",
    "name: q2_2_1\n",
    "manual: false\n",
    "-->"
   ]
  },
  {
   "cell_type": "code",
   "execution_count": 28,
   "metadata": {
    "manual_problem_id": "part_2_reasonable_test"
   },
   "outputs": [
    {
     "data": {
      "text/plain": [
       "True"
      ]
     },
     "execution_count": 28,
     "metadata": {},
     "output_type": "execute_result"
    }
   ],
   "source": [
    "ab_reasonable = True # SOLUTION\n",
    "ab_reasonable"
   ]
  },
  {
   "cell_type": "code",
   "execution_count": null,
   "metadata": {
    "deletable": false,
    "editable": false
   },
   "outputs": [],
   "source": [
    "grader.check(\"q2_2_1\")"
   ]
  },
  {
   "cell_type": "markdown",
   "metadata": {
    "deletable": false,
    "editable": false
   },
   "source": [
    "<!-- BEGIN QUESTION -->\n",
    "\n",
    "**Question 2:** Now that we have a null hypothesis, we need a test statistic. Explain and justify your choice of test statistic in two sentences or less.\n",
    "\n",
    "*Hint*: Remember that larger values of the test statistic should favor the alternative over the null.\n",
    "\n",
    "<!--\n",
    "BEGIN QUESTION\n",
    "name: q2_2_2\n",
    "manual: true\n",
    "-->\n"
   ]
  },
  {
   "cell_type": "markdown",
   "metadata": {},
   "source": [
    "_Type your answer here, replacing this text._"
   ]
  },
  {
   "cell_type": "markdown",
   "metadata": {
    "export_pdf": true,
    "manual_problem_id": "part_2_ts"
   },
   "source": [
    "**SOLUTION:** We want a test statistic where larger values of the test statistic will point towards the alternative. In this case, the alternative states that the cholestrol levels of people who get heart disease are higher on average than those who do not. As such, it is not enough to measure the magnitude of the difference between cholestrol levels, but also maintain the directionality implied in the alternative. An example test statistic could be the difference between the average cholestrol levels of those who get heart disease and those who don't. "
   ]
  },
  {
   "cell_type": "markdown",
   "metadata": {
    "deletable": false,
    "editable": false
   },
   "source": [
    "<!-- END QUESTION -->\n",
    "\n",
    "**Question 3**: Write a function that computes your test statistic. It should take a table with two columns, `TOTCHOL` (total serum cholesterol) and `ANYCHD` (whether or not the person had coronary heart disease), and compute the test statistic you described above. \n",
    "\n",
    "Use the function you defined to compute the observed test statistic, and assign it to the name `framingham_observed_statistic`.\n",
    "\n",
    "<!--\n",
    "BEGIN QUESTION\n",
    "name: q2_2_3\n",
    "manual: false\n",
    "-->"
   ]
  },
  {
   "cell_type": "code",
   "execution_count": 31,
   "metadata": {
    "for_assignment_type": "solution"
   },
   "outputs": [
    {
     "data": {
      "text/plain": [
       "16.635919905689406"
      ]
     },
     "execution_count": 31,
     "metadata": {},
     "output_type": "execute_result"
    }
   ],
   "source": [
    "def compute_framingham_test_statistic(tbl):\n",
    "    # BEGIN SOLUTION\n",
    "    means = tbl.group('ANYCHD', np.average).column('TOTCHOL average')\n",
    "    return means.item(1) - means.item(0)\n",
    "    # END SOLUTION\n",
    "    \n",
    "framingham_observed_statistic = compute_framingham_test_statistic(framingham)\n",
    "framingham_observed_statistic"
   ]
  },
  {
   "cell_type": "code",
   "execution_count": null,
   "metadata": {
    "deletable": false,
    "editable": false
   },
   "outputs": [],
   "source": [
    "grader.check(\"q2_2_3\")"
   ]
  },
  {
   "cell_type": "markdown",
   "metadata": {
    "deletable": false,
    "editable": false
   },
   "source": [
    "Now that we have defined hypotheses and a test statistic, we are ready to conduct a hypothesis test. We'll start by defining a function to simulate the test statistic under the null hypothesis, and then use that function 1000 times to understand the distribution under the null hypothesis.\n",
    "\n",
    "**Question 4**: Write a function to simulate the test statistic under the null hypothesis. \n",
    "\n",
    "The `simulate_framingham_null` function should simulate the null hypothesis once (not 1000 times) and return the value of the test statistic for that simulated sample.\n",
    "\n",
    "<!--\n",
    "BEGIN QUESTION\n",
    "name: q2_2_4\n",
    "manual: false\n",
    "-->"
   ]
  },
  {
   "cell_type": "code",
   "execution_count": 35,
   "metadata": {
    "for_assignment_type": "solution"
   },
   "outputs": [
    {
     "data": {
      "text/plain": [
       "-1.7349387619993308"
      ]
     },
     "execution_count": 35,
     "metadata": {},
     "output_type": "execute_result"
    }
   ],
   "source": [
    "def simulate_framingham_null():\n",
    "    # BEGIN SOLUTION\n",
    "    shuffled_frame = framingham.sample(with_replacement = False)\n",
    "    sim_table_frame = framingham.with_column('TOTCHOL', shuffled_frame.column('TOTCHOL'))\n",
    "    return compute_framingham_test_statistic(sim_table_frame)\n",
    "    # END SOLUTION\n",
    "    \n",
    "# Run your function once to make sure that it works.\n",
    "simulate_framingham_null()"
   ]
  },
  {
   "cell_type": "code",
   "execution_count": null,
   "metadata": {
    "deletable": false,
    "editable": false
   },
   "outputs": [],
   "source": [
    "grader.check(\"q2_2_4\")"
   ]
  },
  {
   "cell_type": "markdown",
   "metadata": {
    "deletable": false,
    "editable": false
   },
   "source": [
    "**Question 5**: Fill in the blanks below to complete the simulation for the hypothesis test. Your simulation should compute 100 values of the test statistic under the null hypothesis and store the result in the array `framingham_simulated_stats`.\n",
    "\n",
    "*Hint*: You should use the function you wrote above in Question 4.\n",
    "\n",
    "*Note*: Warning: running should only take a couple minutes at max!  We encourage you to check your `simulate_framingham_null()` code to make sure it works correctly before running this cell. \n",
    "\n",
    "<!--\n",
    "BEGIN QUESTION\n",
    "name: q2_2_5\n",
    "manual: false\n",
    "-->"
   ]
  },
  {
   "cell_type": "code",
   "execution_count": 38,
   "metadata": {
    "for_assignment_type": "solution"
   },
   "outputs": [],
   "source": [
    "framingham_simulated_stats = make_array()\n",
    "\n",
    "for i in np.arange(1000):\n",
    "    # BEGIN SOLUTION\n",
    "    sim_stat = simulate_framingham_null()\n",
    "    framingham_simulated_stats = np.append(framingham_simulated_stats, sim_stat)\n",
    "    # END SOLUTION"
   ]
  },
  {
   "cell_type": "code",
   "execution_count": null,
   "metadata": {
    "deletable": false,
    "editable": false
   },
   "outputs": [],
   "source": [
    "grader.check(\"q2_2_5\")"
   ]
  },
  {
   "cell_type": "markdown",
   "metadata": {
    "deletable": false,
    "editable": false
   },
   "source": [
    "<!-- BEGIN QUESTION -->\n",
    "\n",
    "**Question 6:** The following line will plot the histogram of the simulated test statistics, as well as a point for the observed test statistic. Make sure to run it, as it will be graded. \n",
    "\n",
    "<!--\n",
    "BEGIN QUESTION\n",
    "name: q2_2_6\n",
    "manual: true\n",
    "-->\n"
   ]
  },
  {
   "cell_type": "code",
   "execution_count": 40,
   "metadata": {
    "export_pdf": true,
    "manual_problem_id": "disease_q_4_1_6"
   },
   "outputs": [
    {
     "data": {
      "image/png": "[encoded data removed]",
      "text/plain": [
       "<Figure size 432x288 with 1 Axes>"
      ]
     },
     "metadata": {},
     "output_type": "display_data"
    }
   ],
   "source": [
    "Table().with_column('Simulated statistics', framingham_simulated_stats).hist()\n",
    "plots.scatter(framingham_observed_statistic, 0, color='red', s=30);"
   ]
  },
  {
   "cell_type": "markdown",
   "metadata": {
    "deletable": false,
    "editable": false
   },
   "source": [
    "<!-- END QUESTION -->\n",
    "\n",
    "**Question 7**: Compute the p-value for this hypothesis test, and assign it to the name `framingham_p_value`.\n",
    "\n",
    "*Hint*: One of the key findings of the Framingham study was a strong association between cholesterol levels and heart disease. If your p-value doesn't match up with this finding, you may want to take another look at your test statistic and/or your simulation.\n",
    "\n",
    "<!--\n",
    "BEGIN QUESTION\n",
    "name: q2_2_7\n",
    "manual: false\n",
    "-->"
   ]
  },
  {
   "cell_type": "code",
   "execution_count": 41,
   "metadata": {
    "for_assignment_type": "solution"
   },
   "outputs": [
    {
     "data": {
      "text/plain": [
       "0.0"
      ]
     },
     "execution_count": 41,
     "metadata": {},
     "output_type": "execute_result"
    }
   ],
   "source": [
    "framingham_p_value = np.count_nonzero(framingham_simulated_stats >= framingham_observed_statistic) / len(framingham_simulated_stats) # SOLUTION\n",
    "framingham_p_value"
   ]
  },
  {
   "cell_type": "code",
   "execution_count": null,
   "metadata": {
    "deletable": false,
    "editable": false
   },
   "outputs": [],
   "source": [
    "grader.check(\"q2_2_7\")"
   ]
  },
  {
   "cell_type": "markdown",
   "metadata": {
    "deletable": false,
    "editable": false
   },
   "source": [
    "<!-- BEGIN QUESTION -->\n",
    "\n",
    "**Question 8**: Despite the Framingham Heart Study's well-deserved reputation as a well-conducted and rigorous study, it has some major limitations. Give one specific reason why it can't be used to say that high cholesterol *causes* heart disease.\n",
    "\n",
    "<!--\n",
    "BEGIN QUESTION\n",
    "name: q2_2_9\n",
    "manual: true\n",
    "-->\n"
   ]
  },
  {
   "cell_type": "markdown",
   "metadata": {},
   "source": [
    "_Type your answer here, replacing this text._"
   ]
  },
  {
   "cell_type": "markdown",
   "metadata": {
    "export_pdf": true,
    "manual_problem_id": "disease_2_1"
   },
   "source": [
    "**SOLUTION:** The Framingham Heart Study was an observational study, rather than a random controlled experiment. As such, without a proper randomization procedure, it would be hard for us to establish with high confidence the removal of confounding factors between the control and treatment groups. Therefore, we cannot claim that high cholestrol causes heart disease. "
   ]
  },
  {
   "cell_type": "markdown",
   "metadata": {},
   "source": [
    "<!-- END QUESTION -->\n",
    "\n",
    "\n",
    "\n",
    "Similar studies from the 1950s found positive associations between diets high in saturated fat, high cholesterol, and incidence of heart disease. In 1962, the U.S. Surgeon General said:\n",
    "\n",
    "*\"Although there is evidence that diet and dietary habits may be implicated in the development of coronary heart disease and may be significant in its prevention or control, at present our only research evidence is associative and not conclusive.\"*"
   ]
  },
  {
   "cell_type": "markdown",
   "metadata": {},
   "source": [
    "## Checkpoint 1 (Due 04/03)\n",
    "#### Congratulations, you have reached the first checkpoint! \n",
    "\n",
    "To get full credit for this checkpoint, you must pass all the public autograder tests above this cell."
   ]
  },
  {
   "cell_type": "markdown",
   "metadata": {},
   "source": [
    "## Part 3: Hormone Replacement Therapy for Cardiovascular Health"
   ]
  },
  {
   "cell_type": "markdown",
   "metadata": {},
   "source": [
    "### Section 1: The Nurses' Health Study"
   ]
  },
  {
   "cell_type": "markdown",
   "metadata": {},
   "source": [
    "The Nurses' Health Study (NHS) is another very large observational study which has brought many insights into women's health. It began in 1976 by Dr. Frank Speizer, with questionnaires that were mailed to 121,964 female registered nurses in the United States asking about their medical history, cholesterol and blood pressure, current medications, and so on (one of the benefits of studying nurses is their ability to give reliably accurate answers to these questions). \n",
    "\n",
    "The study's initial focus was on investigating the long-term health effects of oral contraceptives, whose use had become much more widespread in the U.S. during the 1960s, but the focus soon expanded to investigating a wide variety of questions on women's health. The NHS continues to this day, tracking its third generation of nurses in the US.\n",
    "\n",
    "**One of the most consequential early findings from the NHS was about hormone replacement therapy (HRT)**: supplementary estrogen and progesterone for post-menopausal women to relieve side effects of declining hormone levels due to menopause. The NHS found that HRT in postmenopausal women was negatively associated with heart attack risk. In a landmark 1985 paper in the *New England Journal of Medicine* (NEJM), Speizer and his coauthors wrote that\n",
    "> As compared with the risk in women who had never used postmenopausal hormones, the age-adjusted relative risk of coronary disease in those who had ever used them was 0.5 (95 per cent confidence limits, 0.3 and 0.8; P = 0.007)... These data support the hypothesis that the postmenopausal use of estrogen reduces the risk of severe coronary heart disease. [(Stampfer et al., 1985)](https://www.ncbi.nlm.nih.gov/pubmed/4047106)\n",
    "\n",
    "**In other words, the authors are saying that women on HRT are half as likely to suffer a heart attack over a certain time period.** We'll define the term \"relative risk\" later in this section, and we'll also investigate the interpretation of these claims and their statistical basis."
   ]
  },
  {
   "cell_type": "markdown",
   "metadata": {
    "deletable": false,
    "editable": false
   },
   "source": [
    "**Question 1** Based on the passage above, which of the following statements can you infer about the Nurses' Health Study? Create an array called `nhs_true_statements` and add integers corresponding to statements you believe are correct (ex: write `nhs_true_statements = make_array(1, 2, 4)` if you think options 1, 2, and 4 are correct)\n",
    "\n",
    "1. The Nurses' Health Study was a controlled experiment with a control and treatment group.\n",
    "2. Hormone replacement therapy is most commonly used by young women.\n",
    "3. The study uses data that was self-reported by nurses for the analysis\n",
    "4. Since only nurses were included in the study, there's a chance that confounding factors influence our dataset.\n",
    "5. The study found that estrogen and progesterone use had an association with CHD rates in post-menopausal women.\n",
    "\n",
    "<!--\n",
    "BEGIN QUESTION\n",
    "name: q3_1_1\n",
    "-->"
   ]
  },
  {
   "cell_type": "code",
   "execution_count": 43,
   "metadata": {},
   "outputs": [
    {
     "data": {
      "text/plain": [
       "array([3, 4, 5], dtype=int64)"
      ]
     },
     "execution_count": 43,
     "metadata": {},
     "output_type": "execute_result"
    }
   ],
   "source": [
    "nhs_true_statements = make_array(3, 4, 5) # SOLUTION\n",
    "nhs_true_statements"
   ]
  },
  {
   "cell_type": "code",
   "execution_count": null,
   "metadata": {
    "deletable": false,
    "editable": false
   },
   "outputs": [],
   "source": [
    "grader.check(\"q3_1_1\")"
   ]
  },
  {
   "cell_type": "markdown",
   "metadata": {},
   "source": [
    "**The scientists running the NHS wanted to compare post-menopausal women who had taken HRT with post-menopausal women who had never taken HRT, excluding all women who were not post-menopausal or who had previously suffered a heart attack.** This study design complicates the analysis because it creates a variety of reasons why women might drop in and out of the relevant comparison groups."
   ]
  },
  {
   "cell_type": "markdown",
   "metadata": {
    "deletable": false,
    "editable": false
   },
   "source": [
    "**Question 2.** Consider the following events which could occur in the middle of the study period (read the above paragraph carefully first): \n",
    "0. A woman (who has never had a heart attack) was pre-menopausal at the beginning of the study period becomes post-menopausal in the middle of the study period.\n",
    "1. A post-menopausal woman survives a heart attack in the middle of the study period (assume the woman is post-menopausal and had never before had a heart attack).\n",
    "2. A woman dies of cancer in the middle of the study period (assume the woman is post-menopausal and has never had a heart attack).\n",
    "3. A woman who was not on HRT at the beginning of the study period, and had never before taken HRT, begins taking HRT in the middle of the period (assume the woman is post-menopausal and has never had a heart attack).\n",
    "4. A woman who was taking HRT at the beginning of the study period stops taking HRT in the middle of the period (assume the woman is post-menopausal and has never had a heart attack).\n",
    "\n",
    "For each of the events listed above, answer whether they would result in a woman\n",
    "\n",
    "- (`E`) entering the study in the middle, \n",
    "- (`L`) leaving the study in the middle, \n",
    "- (`S`) switching from one comparison group to another in the middle, or \n",
    "- (`N`) none of the above \n",
    "\n",
    "<!--\n",
    "BEGIN QUESTION\n",
    "name: q3_1_2\n",
    "-->\n",
    "\n",
    "Assign `event_result` to an array of strings where the *i*th string is a single *capital* letter corresponding to your answer for the *i*th event.\n",
    "\n",
    "For example, an example answer is `event_result = make_array('N', 'E', 'E', 'L', 'E')` where our answer for event 0 is `N`, our answer for event 1 is `E`, our answer for event 2 is `E`, etc."
   ]
  },
  {
   "cell_type": "code",
   "execution_count": 47,
   "metadata": {},
   "outputs": [
    {
     "data": {
      "text/plain": [
       "array(['E', 'L', 'L', 'S', 'N'],\n",
       "      dtype='<U1')"
      ]
     },
     "execution_count": 47,
     "metadata": {},
     "output_type": "execute_result"
    }
   ],
   "source": [
    "event_result = make_array('E', 'L', 'L', 'S', 'N') # SOLUTION\n",
    "event_result"
   ]
  },
  {
   "cell_type": "code",
   "execution_count": null,
   "metadata": {
    "deletable": false,
    "editable": false
   },
   "outputs": [],
   "source": [
    "grader.check(\"q3_1_2\")"
   ]
  },
  {
   "cell_type": "markdown",
   "metadata": {},
   "source": [
    "Because women could (and did) drop into and out of the comparison groups in the middle of the study, it is difficult to make a table like we usually would, with one row per participant. In medical studies, individuals are typically weighted by the *amount of time* that they enrolled in the study. A more convenient sampling unit is a **person-month at risk**, which is one month spent by a particular woman in one of the comparison groups, during which she might or might not suffer a heart attack. Here, \"at risk\" just means the woman is being tracked by the survey in either of the two comparison groups, so that if she had a heart attack it would be counted in our data set.\n",
    "\n",
    "**Example**: The table below tracks the histories of two hypothetical post-menopausal women in a six-month longitudinal study, who both enter the study in January 1978:\n",
    "1. Alice has never been on HRT. She has a heart attack in March and is excluded for the remainder of the study period. \n",
    "2. Beatrice begins taking HRT for the first time in April and stays healthy throughout the study period.\n",
    "\n",
    "| Name     | Month    | HRT | Heart Attack   |                                             \n",
    "|----------|----------|-----|----------------|\n",
    "| Alice    | Jan 1978 |  0  | 0              |\n",
    "| Alice    | Feb 1978 |  0  | 0              |\n",
    "| Alice    | Mar 1978 |  0  | 1              |\n",
    "| Beatrice | Jan 1978 |  0  | 0              | \n",
    "| Beatrice | Feb 1978 |  0  | 0              |\n",
    "| Beatrice | Mar 1978 |  0  | 0              |\n",
    "| Beatrice | Apr 1978 |  1  | 0              |\n",
    "| Beatrice | May 1978 |  1  | 0              |\n",
    "| Beatrice | Jun 1978 |  1  | 0              |\n",
    "\n"
   ]
  },
  {
   "cell_type": "markdown",
   "metadata": {},
   "source": [
    "The probability that a heart attack will happen to a given at-risk person in a given duration of time is called the **hazard rate**. The NHS calculated its effects in terms of the **relative risk**, which is simply the hazard rate for *person-months* in the HRT (Group A) group divided by the hazard rate in the no-HRT (Group B) group.\n",
    "\n",
    "$$\\text{Relative Risk} = \\frac{\\text{Hazard Rate(Treatment Group)}}{\\text{Hazard Rate(Control Group)}}$$\n"
   ]
  },
  {
   "cell_type": "markdown",
   "metadata": {
    "deletable": false,
    "editable": false
   },
   "source": [
    "**Question 3.** Complete the following statements, by setting the variable names to the value that correctly fills in the blank.\n",
    "\n",
    "If the hazard rate of the treatment group is greater than the hazard rate of the control group, the relative risk will be `blank1_1` one. This means that individuals in the treatment group are at `blank1_2` risk of having an heart attack compared to those in the control group.\n",
    "\n",
    "If the hazard rate of the treatment group is less than the hazard rate of the control group, the relative risk will be `blank2_1` one. This means that individuals in the treatment group are at `blank2_2` risk of having an heart attack compared to those in the control group.\n",
    "\n",
    "If the hazard rate of the treatment group is equal to the hazard rate of the control group, the relative risk will be `blank3_1` one. This means that individuals in the treatment group are at `blank3_2` risk of having an heart attack compared to those in the control group.\n",
    "\n",
    "`blank1_1`, `blank2_1`, `blank3_1` should be set to one of the following strings: \"less than\", \"equal to\", or \"greater than\"\n",
    "\n",
    "`blank1_2`, `blank2_2`, `blank3_2` should be set to one of the following strings:\"lower\", \"equal\", or \"higher\" \n",
    "\n",
    "<!--\n",
    "BEGIN QUESTION\n",
    "name: q3_1_3\n",
    "-->"
   ]
  },
  {
   "cell_type": "code",
   "execution_count": 57,
   "metadata": {},
   "outputs": [],
   "source": [
    "blank1_1 = \"greater than\" # SOLUTION\n",
    "blank1_2 = \"higher\" # SOLUTION\n",
    "blank2_1 = \"less than\" # SOLUTION\n",
    "blank2_2 = \"lower\" # SOLUTION\n",
    "blank3_1 = \"equal to\" # SOLUTION\n",
    "blank3_2 = \"equal\" # SOLUTION"
   ]
  },
  {
   "cell_type": "code",
   "execution_count": null,
   "metadata": {
    "deletable": false,
    "editable": false
   },
   "outputs": [],
   "source": [
    "grader.check(\"q3_1_3\")"
   ]
  },
  {
   "cell_type": "markdown",
   "metadata": {},
   "source": [
    "Most statistical methods that deal with this type of data assume that we can treat a table like the one above as though it is a sample of independent random draws from a much larger population of person-months at risk in each group. **We will take this assumption for granted throughout the rest of this section.**\n",
    "\n",
    "Instead of *person-months* at risk, the NHS used *person-years* at risk. It reported 51,478 total person-years at risk in the no-HRT group with 60 heart attacks occurring in total, as well as 54,309 person-years at risk in the HRT group with 30 heart attacks occurring in total. The table NHS below has one row for each person-year at risk. The two columns are 'HRT', recording whether it came from the HRT group (1) or no-HRT group (0), and 'Heart Attack', recording whether the participant had a heart attack that year (1 for yes, 0 for no)."
   ]
  },
  {
   "cell_type": "code",
   "execution_count": 64,
   "metadata": {},
   "outputs": [
    {
     "data": {
      "text/html": [
       "<table border=\"1\" class=\"dataframe\">\n",
       "    <thead>\n",
       "        <tr>\n",
       "            <th>HRT</th> <th>Heart Attack</th>\n",
       "        </tr>\n",
       "    </thead>\n",
       "    <tbody>\n",
       "        <tr>\n",
       "            <td>0   </td> <td>0           </td>\n",
       "        </tr>\n",
       "        <tr>\n",
       "            <td>0   </td> <td>0           </td>\n",
       "        </tr>\n",
       "        <tr>\n",
       "            <td>0   </td> <td>0           </td>\n",
       "        </tr>\n",
       "    </tbody>\n",
       "</table>\n",
       "<p>... (105784 rows omitted)</p>"
      ],
      "text/plain": [
       "<IPython.core.display.HTML object>"
      ]
     },
     "metadata": {},
     "output_type": "display_data"
    }
   ],
   "source": [
    "NHS = Table.read_table('NHS.csv')\n",
    "NHS.show(3)"
   ]
  },
  {
   "cell_type": "markdown",
   "metadata": {},
   "source": [
    "Using the NHS data, we can now conduct a hypothesis test to investigate the relationship between HRT and risk of CHD. We'll set up the test as follows:\n",
    "\n",
    "> **Null Hypothesis:** HRT does not affect the risk of CHD, and the true relative risk is equal to 1. Any deviation is due to random chance\n",
    "\n",
    "> **Alternative Hypothesis:** HRT decreases the risk of CHD, and the true relative risk is less than 1.\n",
    "\n",
    "> **Test Statistic:** Relative risk of CHD between post-menopausal women receiving HRT and post-menopausal women not receiving HRT (the definition of relative risk is repeated here for your convenience):\n",
    "\n",
    "$$\\text{Relative Risk} = \\frac{\\text{Hazard Rate(Treatment Group)}}{\\text{Hazard Rate(Control Group)}}$$\n",
    "\n",
    "*Note: Remember that we assume, under the null, that the two populations are derived from the same much larger population - under this assumption $\\text{Hazard Rate(Treatment Group)} = \\text{Hazard Rate(Control Group)}$. After simulation, we test this hypothesis by viewing the relative_risk for our simulated samples.*"
   ]
  },
  {
   "cell_type": "markdown",
   "metadata": {
    "deletable": false,
    "editable": false
   },
   "source": [
    "**Question 4.** Fill in the missing code below to write a function called `relative_risk` that takes in a table with the column labels `HRT` and `Heart Attack`, and computes the sample relative risk as an estimate of the population relative risk. Do *not* round your answer.\n",
    "\n",
    "<!--\n",
    "BEGIN QUESTION\n",
    "name: q3_1_4\n",
    "-->"
   ]
  },
  {
   "cell_type": "code",
   "execution_count": 65,
   "metadata": {},
   "outputs": [
    {
     "data": {
      "text/plain": [
       "0.47393618000699694"
      ]
     },
     "execution_count": 65,
     "metadata": {},
     "output_type": "execute_result"
    }
   ],
   "source": [
    "def relative_risk(tbl):\n",
    "    \"\"\"Return the ratio of the hazard rates (events per person-year) for the two groups\"\"\"\n",
    "    # BEGIN SOLUTION\n",
    "    hazards = tbl.group('HRT', np.average).column('Heart Attack average')\n",
    "    return hazards.item(1) / hazards.item(0)\n",
    "    # END SOLUTION\n",
    "    \n",
    "relative_risk(NHS)"
   ]
  },
  {
   "cell_type": "code",
   "execution_count": null,
   "metadata": {
    "deletable": false,
    "editable": false
   },
   "outputs": [],
   "source": [
    "grader.check(\"q3_1_4\")"
   ]
  },
  {
   "cell_type": "markdown",
   "metadata": {
    "deletable": false,
    "editable": false
   },
   "source": [
    "**Question 5.** Fill in the function `one_bootstrap_rr` so that it generates one bootstrap sample and computes the relative risk. Assign `bootstrap_rrs` to 10 (yes, only 10; the code is slow!) estimates of the population relative risk.\n",
    "\n",
    "*Note:* The cell may take a few seconds to run.\n",
    "\n",
    "<!--\n",
    "BEGIN QUESTION\n",
    "name: q3_1_5\n",
    "-->"
   ]
  },
  {
   "cell_type": "code",
   "execution_count": 70,
   "metadata": {},
   "outputs": [],
   "source": [
    "# BEGIN SOLUTION NO PROMPT\n",
    "def one_bootstrap_rr():\n",
    "    return relative_risk(NHS.sample())\n",
    "\n",
    "bootstrap_rrs = make_array() # SOLUTION\n",
    "for i in np.arange(10):\n",
    "    new_bootstrap_rr = one_bootstrap_rr() # SOLUTION\n",
    "    bootstrap_rrs = np.append(bootstrap_rrs, new_bootstrap_rr)\n",
    "# END SOLUTION\n",
    "\"\"\" # BEGIN PROMPT\n",
    "def one_bootstrap_rr():\n",
    "    return ...\n",
    "\n",
    "bootstrap_rrs = ...\n",
    "for i in np.arange(10):\n",
    "    new_boostrap_rr = ...\n",
    "    bootstrap_rrs = ...\n",
    "\"\"\"; # END PROMPT"
   ]
  },
  {
   "cell_type": "code",
   "execution_count": null,
   "metadata": {
    "deletable": false,
    "editable": false
   },
   "outputs": [],
   "source": [
    "grader.check(\"q3_1_5\")"
   ]
  },
  {
   "cell_type": "markdown",
   "metadata": {
    "deletable": false,
    "editable": false
   },
   "source": [
    "**Question 6.** The file `bootstrap_rrs.csv` contains a one-column table with 2001 saved bootstrapped relative risks. Use these bootstrapped values to compute a 95% confidence interval, storing the left endpoint as `ci_left` and the right endpoint as `ci_right`. \n",
    "\n",
    "Note that our method isn't exactly the same as the method employed by the study authors to get their confidence interval.\n",
    "\n",
    "<!--\n",
    "BEGIN QUESTION\n",
    "name: q3_1_6\n",
    "-->"
   ]
  },
  {
   "cell_type": "code",
   "execution_count": 74,
   "metadata": {},
   "outputs": [
    {
     "name": "stdout",
     "output_type": "stream",
     "text": [
      "Middle 95% of bootstrappped relative risks: [0.295930, 0.730383]\n"
     ]
    }
   ],
   "source": [
    "bootstrap_rrs_from_tbl = Table.read_table('bootstrap_rrs.csv').column(0)\n",
    "ci_left = percentile(2.5, bootstrap_rrs_from_tbl) # SOLUTION\n",
    "ci_right = percentile(97.5, bootstrap_rrs_from_tbl) # SOLUTION\n",
    "\n",
    "print(\"Middle 95% of bootstrappped relative risks: [{:f}, {:f}]\".format(ci_left, ci_right))"
   ]
  },
  {
   "cell_type": "code",
   "execution_count": null,
   "metadata": {
    "deletable": false,
    "editable": false
   },
   "outputs": [],
   "source": [
    "grader.check(\"q3_1_6\")"
   ]
  },
  {
   "cell_type": "markdown",
   "metadata": {},
   "source": [
    "The code below plots the confidence interval on top of the bootstrap histogram."
   ]
  },
  {
   "cell_type": "code",
   "execution_count": 79,
   "metadata": {},
   "outputs": [
    {
     "data": {
      "image/png": "[encoded data removed]",
      "text/plain": [
       "<Figure size 432x288 with 1 Axes>"
      ]
     },
     "metadata": {},
     "output_type": "display_data"
    }
   ],
   "source": [
    "# Just run this cell\n",
    "Table().with_column(\"Relative Risks\", bootstrap_rrs_from_tbl).hist()\n",
    "plots.plot([ci_left, ci_right], [.05,.05], color=\"gold\");"
   ]
  },
  {
   "cell_type": "markdown",
   "metadata": {
    "deletable": false,
    "editable": false
   },
   "source": [
    "**Question 7.** The abstract of the original paper gives a 95% confidence interval of [0.3, 0.8] for the relative risk. Which of the following statements can be justified based on that confidence interval? \n",
    "\n",
    "1. There is a 95% chance the relative risk is between 0.3 and 0.8.\n",
    "2. If we used a P-value cutoff of 5%, we would reject the null hypothesis that HRT does not affect the risk of CHD.\n",
    "3. If we redo the procedure that generated the interval [0.3, 0.8] on a fresh sample of the same size, there is a 95% chance it will include the true relative risk.\n",
    "4. There is between a 30% and 80% chance that any woman will suffer a heart attack during the study period.\n",
    "\n",
    "Assign `ci_statements` to a list of number(s) corresponding to the correct answer(s).\n",
    "\n",
    "<!--\n",
    "BEGIN QUESTION\n",
    "name: q3_1_7\n",
    "-->"
   ]
  },
  {
   "cell_type": "code",
   "execution_count": 80,
   "metadata": {},
   "outputs": [],
   "source": [
    "ci_statements = make_array(2, 3) # SOLUTION"
   ]
  },
  {
   "cell_type": "code",
   "execution_count": null,
   "metadata": {
    "deletable": false,
    "editable": false
   },
   "outputs": [],
   "source": [
    "grader.check(\"q3_1_7\")"
   ]
  },
  {
   "cell_type": "markdown",
   "metadata": {
    "deletable": false,
    "editable": false
   },
   "source": [
    "<!-- BEGIN QUESTION -->\n",
    "\n",
    "**Question 8.** What can you conclude from this test? Was hormone replacement therapy associated with an increased or decreased risk of heart attacks? Can we say that HRT caused an change in the risk of heart attacks? Explain your reasoning in 2-4 sentences. \n",
    "\n",
    "<!--\n",
    "BEGIN QUESTION\n",
    "name: q3_1_8\n",
    "manual: true\n",
    "-->"
   ]
  },
  {
   "cell_type": "markdown",
   "metadata": {},
   "source": [
    "_Type your answer here, replacing this text._"
   ]
  },
  {
   "cell_type": "markdown",
   "metadata": {
    "export_pdf": true
   },
   "source": [
    "**SOLUTION:** The results of the study suggest that hormone replacement therapy is associated with an decreased risk of heart attacks, since the confidence interval only includes values that are less than 1. Since the Nurses' Health Study was an observational study, we can not say anything about the casual relationship between HRD and CHD."
   ]
  },
  {
   "cell_type": "markdown",
   "metadata": {},
   "source": [
    "<!-- END QUESTION -->\n",
    "\n",
    "\n",
    "\n",
    "Partly as a result of evidence from the NHS and other observational studies that drew similar conclusions, HRT drugs became a very popular preventive treatment for doctors to prescribe to post-menopausal woman. Even though there were known or suspected risks to the treatment (such as increasing the risk of invasive breast cancer), it was thought that the reduction in heart disease risk was well worth it."
   ]
  },
  {
   "cell_type": "markdown",
   "metadata": {},
   "source": [
    "### Section 2: The Heart and Estrogen-Progestin Replacement Study"
   ]
  },
  {
   "cell_type": "markdown",
   "metadata": {},
   "source": [
    "The Heart and Estrogen-Progestin Replacement Study (HERS) was a large randomized controlled trial carried out by the Women's Health Initiative, which sought to verify whether HRT drugs were as effective as the observational studies seemed to suggest. 2,763 women with a history of heart disease were selected and randomly assigned to receive the treatment (daily estrogen pills) or a placebo pill that looked identical to the treatment. Of the 2763 women participating, 1380 were assigned to the treatment condition and 1383 to the control. They were followed for an average of three years and the number of heart attacks in the two groups was compared."
   ]
  },
  {
   "cell_type": "markdown",
   "metadata": {},
   "source": [
    "The main results table from the HERS study [Hulley et al. (1998)](https://jamanetwork.com/journals/jama/fullarticle/187879) is reproduced here:\n",
    "\n",
    "<img src=\"HERS-table.png\" width=500>"
   ]
  },
  {
   "cell_type": "markdown",
   "metadata": {},
   "source": [
    "For this study, constructed our own table from scratch based on the results given above. The results are contained in the table `HERS` that has one row for each woman in the trial and two columns: `HRT`, which is 1 if she was assigned to treatment and 0 otherwise, and `CHD`, which is 1 if she suffered a Primary CHD (Coronary Heart Disease) event and 0 otherwise.\n",
    "\n",
    "Run the cell below to view the results from the HERS study."
   ]
  },
  {
   "cell_type": "code",
   "execution_count": 83,
   "metadata": {},
   "outputs": [
    {
     "data": {
      "text/html": [
       "<table border=\"1\" class=\"dataframe\">\n",
       "    <thead>\n",
       "        <tr>\n",
       "            <th>HRT</th> <th>CHD</th>\n",
       "        </tr>\n",
       "    </thead>\n",
       "    <tbody>\n",
       "        <tr>\n",
       "            <td>0   </td> <td>0   </td>\n",
       "        </tr>\n",
       "        <tr>\n",
       "            <td>0   </td> <td>0   </td>\n",
       "        </tr>\n",
       "        <tr>\n",
       "            <td>0   </td> <td>0   </td>\n",
       "        </tr>\n",
       "    </tbody>\n",
       "</table>\n",
       "<p>... (2760 rows omitted)</p>"
      ],
      "text/plain": [
       "<IPython.core.display.HTML object>"
      ]
     },
     "metadata": {},
     "output_type": "display_data"
    }
   ],
   "source": [
    "num_control = 1383 \n",
    "num_treatment = 1380\n",
    "\n",
    "num_control_chd = 176\n",
    "num_treatment_chd = 172\n",
    "\n",
    "hrt = np.append(np.zeros(num_control), np.ones(num_treatment))\n",
    "chd_control = np.append(np.zeros(num_control - num_control_chd), np.ones(num_control_chd))\n",
    "chd_treatment = np.append(np.zeros(num_treatment - num_treatment_chd), np.ones(num_treatment_chd))\n",
    "chd = np.append(chd_control, chd_treatment)\n",
    "\n",
    "HERS = Table().with_columns('HRT', hrt, 'CHD', chd)\n",
    "HERS.show(3)"
   ]
  },
  {
   "cell_type": "markdown",
   "metadata": {
    "deletable": false,
    "editable": false
   },
   "source": [
    "**Question 1.** We would like to test the null hypothesis that the treatment (HRT) has no effect on the outcome (CHD), against the alternative hypothesis that the treatment does have an effect. What would be a good test statistic? \n",
    "\n",
    "Assign `good_ts` to an array of number(s) corresponding to the correct answer(s). Keep in mind that this was the first clinical trial to be done on this subject; as a result, it was not clear at the time whether any effect would be positive or negative.\n",
    "\n",
    "\n",
    "1. The absolute difference between 1 and the relative risk.\n",
    "2. The average CHD rate for the treatment group.\n",
    "3. 10 times the absolute difference between the control and treatment groups' average CHD rates.\n",
    "\n",
    "<!--\n",
    "BEGIN QUESTION\n",
    "name: q3_2_1\n",
    "-->"
   ]
  },
  {
   "cell_type": "code",
   "execution_count": 84,
   "metadata": {},
   "outputs": [],
   "source": [
    "good_ts = make_array(1, 3) # SOLUTION"
   ]
  },
  {
   "cell_type": "code",
   "execution_count": null,
   "metadata": {
    "deletable": false,
    "editable": false
   },
   "outputs": [],
   "source": [
    "grader.check(\"q3_2_1\")"
   ]
  },
  {
   "cell_type": "markdown",
   "metadata": {
    "deletable": false,
    "editable": false
   },
   "source": [
    "**Question 2.** We'll use distance (absolute difference) between average CHD rates as our test statistic. \n",
    "\n",
    "Write a function called `hers_test_statistic` to calculate this test statistic on a table with columns `HRT` and `CHD`. Use this function to calculate the observed test statistic, and assign it to `observed_HERS_test_statistic`.\n",
    "\n",
    "Think about what values of the test statistic support the null versus the alternative hypothesis. You'll use this information to compute the p-value later in this section.\n",
    "<!--\n",
    "BEGIN QUESTION\n",
    "name: q3_2_2\n",
    "-->"
   ]
  },
  {
   "cell_type": "code",
   "execution_count": 87,
   "metadata": {},
   "outputs": [
    {
     "data": {
      "text/plain": [
       "0.0026218994624162967"
      ]
     },
     "execution_count": 87,
     "metadata": {},
     "output_type": "execute_result"
    }
   ],
   "source": [
    "def HERS_test_statistic(tbl):\n",
    "    \"\"\"Test statistic: Distance between the average responses\"\"\"\n",
    "    averages = tbl.group('HRT', np.average).column('CHD average') # SOLUTION\n",
    "    return abs(averages.item(1) - averages.item(0)) # SOLUTION\n",
    "observed_HERS_test_statistic = HERS_test_statistic(HERS) # SOLUTION\n",
    "observed_HERS_test_statistic"
   ]
  },
  {
   "cell_type": "code",
   "execution_count": null,
   "metadata": {
    "deletable": false,
    "editable": false
   },
   "outputs": [],
   "source": [
    "grader.check(\"q3_2_2\")"
   ]
  },
  {
   "cell_type": "markdown",
   "metadata": {
    "deletable": false,
    "editable": false
   },
   "source": [
    "**Question 3.** Write a function called `simulate_one_HERS_statistic` to simulate one value of the test statistic under the null hypothesis. Make sure you're shufflling the labels `HRT`.\n",
    "\n",
    "Then, use the function to repeatedly sample the null hypothesis 1000 times and compute the test statistic each time. The cell may take a few seconds to run.\n",
    "\n",
    "<!--\n",
    "BEGIN QUESTION\n",
    "name: q3_2_3\n",
    "-->"
   ]
  },
  {
   "cell_type": "code",
   "execution_count": 92,
   "metadata": {},
   "outputs": [],
   "source": [
    "def simulate_one_HERS_statistic():\n",
    "    # BEGIN SOLUTION\n",
    "    shuffled_labels = HERS.sample(with_replacement = False).column('HRT')\n",
    "    shuffled_table = Table().with_columns('HRT', shuffled_labels, 'CHD', HERS.column('CHD'))\n",
    "    return HERS_test_statistic(shuffled_table)\n",
    "    # END SOLUTION\n",
    "HERS_test_statistics = make_array() # SOLUTION\n",
    "for i in np.arange(1000):\n",
    "    new_HERS_statistic = simulate_one_HERS_statistic() # SOLUTION\n",
    "    HERS_test_statistics = np.append(HERS_test_statistics, new_HERS_statistic) # SOLUTION"
   ]
  },
  {
   "cell_type": "code",
   "execution_count": null,
   "metadata": {
    "deletable": false,
    "editable": false
   },
   "outputs": [],
   "source": [
    "grader.check(\"q3_2_3\")"
   ]
  },
  {
   "cell_type": "markdown",
   "metadata": {},
   "source": [
    "The code below generates a histogram of the simulated test statistics along with your test statistic:"
   ]
  },
  {
   "cell_type": "code",
   "execution_count": 97,
   "metadata": {},
   "outputs": [
    {
     "data": {
      "image/png": "[encoded data removed]",
      "text/plain": [
       "<Figure size 432x288 with 1 Axes>"
      ]
     },
     "metadata": {},
     "output_type": "display_data"
    }
   ],
   "source": [
    "Table().with_column('Simulated test statistics', HERS_test_statistics).hist(bins=np.arange(0,.04,.003))\n",
    "plots.scatter(HERS_test_statistic(HERS), 0, color='red', s=30);"
   ]
  },
  {
   "cell_type": "markdown",
   "metadata": {
    "deletable": false,
    "editable": false
   },
   "source": [
    "**Question 4.** Compute the P-value for your hypothesis test and assign it to `HERS_pval`. \n",
    "\n",
    "<!--\n",
    "BEGIN QUESTION\n",
    "name: q3_2_4\n",
    "-->"
   ]
  },
  {
   "cell_type": "code",
   "execution_count": 99,
   "metadata": {},
   "outputs": [
    {
     "data": {
      "text/plain": [
       "0.861"
      ]
     },
     "execution_count": 99,
     "metadata": {},
     "output_type": "execute_result"
    }
   ],
   "source": [
    "HERS_pval = np.count_nonzero(HERS_test_statistics >= observed_HERS_test_statistic) / len(HERS_test_statistics) # SOLUTION\n",
    "HERS_pval"
   ]
  },
  {
   "cell_type": "code",
   "execution_count": null,
   "metadata": {
    "deletable": false,
    "editable": false
   },
   "outputs": [],
   "source": [
    "grader.check(\"q3_2_4\")"
   ]
  },
  {
   "cell_type": "markdown",
   "metadata": {},
   "source": [
    "In part 3, we gave you 2001 bootstrapped relative risks. In the context of the HERS trial, relative risk is now defined as the ratio of the probability that a given woman in the treatment group will have CHD over the study period divided by the probability that a given woman in the control group will have CHD over the study period.\n",
    "\n",
    "We plot the histogram of bootstrapped relative risks, along with a confidence interval representing the middle 95% of that histogram:\n",
    "<img src=\"bootstrap-HERS.png\" width=400>"
   ]
  },
  {
   "cell_type": "markdown",
   "metadata": {
    "deletable": false,
    "editable": false
   },
   "source": [
    "<!-- BEGIN QUESTION -->\n",
    "\n",
    "**Question 5.** Based on the results for this experiment using HERS data, can we reject our null hypothesis that HRT has no effect on CHD risk? Explain why or why not using both the p-value and 95% confidence interval.\n",
    "\n",
    "*Hint*: If you're not sure how to interpret relative risks, go back to Question 3 of Nurses' Health Study section.\n",
    "\n",
    "<!--\n",
    "BEGIN QUESTION\n",
    "name: q3_2_5\n",
    "manual: true\n",
    "-->"
   ]
  },
  {
   "cell_type": "markdown",
   "metadata": {},
   "source": [
    "_Type your answer here, replacing this text._"
   ]
  },
  {
   "cell_type": "markdown",
   "metadata": {
    "export_pdf": true
   },
   "source": [
    "**SOLUTION:** No, the p-value is higher than the 0.05 cutoff and the confidence interval includes values below 1 and above 1. We cannot conclude that HRT affects CHD risk."
   ]
  },
  {
   "cell_type": "markdown",
   "metadata": {},
   "source": [
    "<!-- END QUESTION -->\n",
    "\n",
    "\n",
    "\n",
    "The Heart and Estrogen-Progestin Replacement Study found that HRT did not have a significant impact on a woman's risk of CHD. These findings contradicted the results of the Nurses' Heart study, challenging the efficacy of a treatment that had become the standard of care for heart disease prevention. \n",
    "\n",
    "The HERS study authors put forward a possible answer regarding why the NHS study might be biased:\n",
    "> However, the observed association between estrogen therapy and reduced CHD risk might be attributable to selection bias if women who choose to take hormones are healthier and have a more favorable CHD profile than those who do not. Observational studies cannot resolve this uncertainty.\n",
    "\n",
    "**Selection bias** occurs in observational studies when there is a systematic difference between participants that receive a treatment and participants that do not receive a treatment. When this type of bias is present, the observed treatment effect might be a result of an unmeasured confounding variable."
   ]
  },
  {
   "cell_type": "markdown",
   "metadata": {
    "deletable": false,
    "editable": false
   },
   "source": [
    "<!-- BEGIN QUESTION -->\n",
    "\n",
    "**Question 6:** If women who choose to take hormones are healthier to begin with than women who choose not to, why might that systematically bias the results of observational studies like the NHS? Would we expect observational studies to overestimate or underestimate the protective effect of HRT?\n",
    "\n",
    "<!--\n",
    "BEGIN QUESTION\n",
    "name: q3_2_4\n",
    "manual: true\n",
    "-->"
   ]
  },
  {
   "cell_type": "markdown",
   "metadata": {},
   "source": [
    "_Type your answer here, replacing this text._"
   ]
  },
  {
   "cell_type": "markdown",
   "metadata": {
    "export_pdf": true
   },
   "source": [
    "**SOLUTION:** We should expect observational studies to overestimate the protective effective because women in the HRT group who are healthier overall will have fewer heart attacks. They have baseline characteristics that influence their health outcomes - their lowered risk in hear attack is not attributable to HRT."
   ]
  },
  {
   "cell_type": "markdown",
   "metadata": {},
   "source": [
    "<!-- END QUESTION -->\n",
    "\n",
    "\n",
    "\n",
    "### Further reading\n",
    "\n",
    "If you're interested in learning more, you can check out these articles:\n",
    "\n",
    "* [Origin story of the Framingham Heart Study](https://www.ncbi.nlm.nih.gov/pmc/articles/PMC1449227/)\n",
    "* [NYT article on the Nurses' Health Study and the HERS study](https://www.nytimes.com/2003/04/22/science/hormone-studies-what-went-wrong.html)"
   ]
  },
  {
   "cell_type": "markdown",
   "metadata": {},
   "source": [
    "## Checkpoint 2 (Due 04/10)\n",
    "#### Congratulations, you have reached the second checkpoint! \n",
    "To get full credit for this checkpoint, you must pass all the public autograder tests above this cell."
   ]
  },
  {
   "cell_type": "markdown",
   "metadata": {},
   "source": [
    "## Part 4: Diet and Cardiovascular Disease"
   ]
  },
  {
   "cell_type": "markdown",
   "metadata": {},
   "source": [
    "To establish a causal link between saturated fat intake, serum cholesterol, and heart disease, a group of doctors in the US established the National Heart-Diet Study. The study was based in 6 centers: Baltimore, Boston, Chicago, Minneapolis-St. Paul, Oakland, and Faribault, MN. The first 5 centers recruited volunteers from the local population: volunteers and their families were asked to adjust their diet to include more or less saturated fat.\n",
    "\n",
    "You may already have a strong intuition about what the doctors concluded in their findings, but the evidence from the trial was surprisingly complex.\n",
    "\n",
    "The sixth center was organized by Dr. Ivan Frantz, and its study was known as the Minnesota Coronary Experiment. Dr. Frantz was a strong proponent of reducing saturated fats to prevent death from heart disease. He believed so strongly in the idea that he placed his household on a strict diet very low in saturated fats. The main difference between the Minnesota Coronary Experiment and the rest of the National Diet-Heart Study was the setting. While the other centers in the study looked at volunteers, Dr. Frantz conducted his study at Faribault State Hospital, which housed patients who were institutionalized due to disabilities or mental illness.\n",
    "\n",
    "In this institution, the subjects were randomly divided into two equal groups: half of the subjects, the **control group**, were fed meals cooked with saturated fats, and the other half, the **diet group**, were fed meals cooked with polyunsaturated fats. For example, the diet group's oils were replaced with corn oils and their butter was replaced with margarine. The subjects did not know which food they were getting, to avoid any potential bias or placebo effect. This type of study is known as a **blind** study.\n",
    "\n",
    "Although standards for informed consent in participation weren't as strict then as they are today, the study was described as follows:\n",
    "\n",
    "*No consent forms were required because the study diets were considered to be acceptable as house diets and the testing was considered to contribute to better patient care.  Prior to beginning the diet phase, the project was explained and sample foods were served. Residents were given the opportunity to decline participation.*\n",
    "\n",
    "Despite the level of detail and effort in the study, the results of the study were never extensively examined until the late 21st century. Over 40 years after the data were collected, Dr. Christopher Ramsden heard about the experiment, and asked Dr. Frantz's son Robert to uncover the files in the Frantz family home's dusty basement. You can learn more about the story of how the data was recovered on the [Revisionist History podcast](http://revisionisthistory.com/episodes/20-the-basement-tapes) or in [Scientific American magazine](https://www.scientificamerican.com/article/records-found-in-dusty-basement-undermine-decades-of-dietary-advice/)."
   ]
  },
  {
   "cell_type": "markdown",
   "metadata": {
    "deletable": false,
    "editable": false
   },
   "source": [
    "<!-- BEGIN QUESTION -->\n",
    "\n",
    "**Question 1:** While the data from such a study may be useful scientifically, it also raises major ethical concerns. Describe at least one ethical problem with the study conducted at Faribault State Hospital.\n",
    "\n",
    "*Hint*: There isn't necessarily a single right or wrong answer to this question. If you're not sure, some areas of consideration may be the study organizers' selection of participants for the study, as well as their justification for not using consent forms. You could also ask yourself how the project might have been explained to the patients prior to the diet phase, and to what degree were they capable of consent.\n",
    "\n",
    "<!--\n",
    "BEGIN QUESTION\n",
    "name: q4_1\n",
    "manual: true\n",
    "-->"
   ]
  },
  {
   "cell_type": "markdown",
   "metadata": {},
   "source": [
    "_Type your answer here, replacing this text._"
   ]
  },
  {
   "cell_type": "markdown",
   "metadata": {
    "export_pdf": true
   },
   "source": [
    "**SOLUTION:** \n",
    " - Modern research guidelines protect the exploitation of vulnerable populations. It is unethical to force instutionalized patients (who are already restrained in some manner) to a specific diet, especially a saturated fats diet that may have a deterimental effect on their health.\n",
    " - There was no infomed consents. Patients were not provided with detailed explanations of their diet phase.\n",
    " - Patients may have been coerced into participating in the study. There were potential consequences for residents declining participation in the study.\n"
   ]
  },
  {
   "cell_type": "markdown",
   "metadata": {},
   "source": [
    "<!-- END QUESTION -->\n",
    "\n",
    "\n",
    "\n",
    "In recent years, poor treatment of patients at Faribault State Hospital (and other similar institutions in Minnesota) has come to light: the state has recently [changed patients' gravestones from numbers to their actual names](https://www.tcdailyplanet.net/minnesota-saying-sorry-treatment-persons-disabilities/), and [apologized for inhumane treatment of patients](https://www.tcdailyplanet.net/minnesota-saying-sorry-treatment-persons-disabilities/).|"
   ]
  },
  {
   "cell_type": "markdown",
   "metadata": {},
   "source": [
    "### The Data"
   ]
  },
  {
   "cell_type": "markdown",
   "metadata": {},
   "source": [
    "We want to see whether or not death rates were reduced on low saturated fat diet. Unfortunately, the data for each individual in the 1968 study is not available; only summary statistics are available.  \n",
    "\n",
    "The following table is a summarized version of the data collected in the experiment. "
   ]
  },
  {
   "cell_type": "code",
   "execution_count": 102,
   "metadata": {},
   "outputs": [
    {
     "data": {
      "text/html": [
       "<table border=\"1\" class=\"dataframe\">\n",
       "    <thead>\n",
       "        <tr>\n",
       "            <th>Age</th> <th>Condition</th> <th>Total</th> <th>Deaths</th> <th>CHD Deaths</th>\n",
       "        </tr>\n",
       "    </thead>\n",
       "    <tbody>\n",
       "        <tr>\n",
       "            <td>0-34 </td> <td>Diet     </td> <td>1367 </td> <td>3     </td> <td>0         </td>\n",
       "        </tr>\n",
       "        <tr>\n",
       "            <td>35-44</td> <td>Diet     </td> <td>728  </td> <td>3     </td> <td>0         </td>\n",
       "        </tr>\n",
       "        <tr>\n",
       "            <td>45-54</td> <td>Diet     </td> <td>767  </td> <td>14    </td> <td>4         </td>\n",
       "        </tr>\n",
       "        <tr>\n",
       "            <td>55-64</td> <td>Diet     </td> <td>870  </td> <td>35    </td> <td>7         </td>\n",
       "        </tr>\n",
       "        <tr>\n",
       "            <td>65+  </td> <td>Diet     </td> <td>953  </td> <td>190   </td> <td>42        </td>\n",
       "        </tr>\n",
       "        <tr>\n",
       "            <td>0-34 </td> <td>Control  </td> <td>1337 </td> <td>7     </td> <td>1         </td>\n",
       "        </tr>\n",
       "        <tr>\n",
       "            <td>35-44</td> <td>Control  </td> <td>731  </td> <td>4     </td> <td>1         </td>\n",
       "        </tr>\n",
       "        <tr>\n",
       "            <td>45-54</td> <td>Control  </td> <td>816  </td> <td>16    </td> <td>4         </td>\n",
       "        </tr>\n",
       "        <tr>\n",
       "            <td>55-64</td> <td>Control  </td> <td>896  </td> <td>33    </td> <td>12        </td>\n",
       "        </tr>\n",
       "        <tr>\n",
       "            <td>65+  </td> <td>Control  </td> <td>958  </td> <td>162   </td> <td>34        </td>\n",
       "        </tr>\n",
       "    </tbody>\n",
       "</table>"
      ],
      "text/plain": [
       "Age   | Condition | Total | Deaths | CHD Deaths\n",
       "0-34  | Diet      | 1367  | 3      | 0\n",
       "35-44 | Diet      | 728   | 3      | 0\n",
       "45-54 | Diet      | 767   | 14     | 4\n",
       "55-64 | Diet      | 870   | 35     | 7\n",
       "65+   | Diet      | 953   | 190    | 42\n",
       "0-34  | Control   | 1337  | 7      | 1\n",
       "35-44 | Control   | 731   | 4      | 1\n",
       "45-54 | Control   | 816   | 16     | 4\n",
       "55-64 | Control   | 896   | 33     | 12\n",
       "65+   | Control   | 958   | 162    | 34"
      ]
     },
     "execution_count": 102,
     "metadata": {},
     "output_type": "execute_result"
    }
   ],
   "source": [
    "mortality_summary = Table.read_table('mortality_summary.csv')\n",
    "mortality_summary"
   ]
  },
  {
   "cell_type": "markdown",
   "metadata": {},
   "source": [
    "In order to test whether eating diet actually reduced death rates, we need to synthetically create a table with one row for each participant in the study. \n",
    "\n",
    "We want to expand the `mortality_summary` table to create a row for each study participant. `minnesota_data` is a table with four columns: \"Age\", \"Condition\", \"Participated\" and \"Died\". Each row contains a specific patient and has their age group and condition as specified in the `mortality_summary` table, a `True` in the \"Participated\" column (since everyone participated in the experiment), and either a `True` or `False` in the \"Died\" column, depending on if they are alive or dead. \n",
    "\n",
    "Run the cell below to view the study data that has been created from the summary statistics. "
   ]
  },
  {
   "cell_type": "code",
   "execution_count": 103,
   "metadata": {},
   "outputs": [
    {
     "data": {
      "text/html": [
       "<table border=\"1\" class=\"dataframe\">\n",
       "    <thead>\n",
       "        <tr>\n",
       "            <th>Age</th> <th>Condition</th> <th>Died</th> <th>Participated</th>\n",
       "        </tr>\n",
       "    </thead>\n",
       "    <tbody>\n",
       "        <tr>\n",
       "            <td>0-34</td> <td>Diet     </td> <td>True </td> <td>True        </td>\n",
       "        </tr>\n",
       "        <tr>\n",
       "            <td>0-34</td> <td>Diet     </td> <td>True </td> <td>True        </td>\n",
       "        </tr>\n",
       "        <tr>\n",
       "            <td>0-34</td> <td>Diet     </td> <td>True </td> <td>True        </td>\n",
       "        </tr>\n",
       "        <tr>\n",
       "            <td>0-34</td> <td>Diet     </td> <td>False</td> <td>True        </td>\n",
       "        </tr>\n",
       "        <tr>\n",
       "            <td>0-34</td> <td>Diet     </td> <td>False</td> <td>True        </td>\n",
       "        </tr>\n",
       "        <tr>\n",
       "            <td>0-34</td> <td>Diet     </td> <td>False</td> <td>True        </td>\n",
       "        </tr>\n",
       "        <tr>\n",
       "            <td>0-34</td> <td>Diet     </td> <td>False</td> <td>True        </td>\n",
       "        </tr>\n",
       "        <tr>\n",
       "            <td>0-34</td> <td>Diet     </td> <td>False</td> <td>True        </td>\n",
       "        </tr>\n",
       "        <tr>\n",
       "            <td>0-34</td> <td>Diet     </td> <td>False</td> <td>True        </td>\n",
       "        </tr>\n",
       "        <tr>\n",
       "            <td>0-34</td> <td>Diet     </td> <td>False</td> <td>True        </td>\n",
       "        </tr>\n",
       "    </tbody>\n",
       "</table>\n",
       "<p>... (9413 rows omitted)</p>"
      ],
      "text/plain": [
       "Age  | Condition | Died  | Participated\n",
       "0-34 | Diet      | True  | True\n",
       "0-34 | Diet      | True  | True\n",
       "0-34 | Diet      | True  | True\n",
       "0-34 | Diet      | False | True\n",
       "0-34 | Diet      | False | True\n",
       "0-34 | Diet      | False | True\n",
       "0-34 | Diet      | False | True\n",
       "0-34 | Diet      | False | True\n",
       "0-34 | Diet      | False | True\n",
       "0-34 | Diet      | False | True\n",
       "... (9413 rows omitted)"
      ]
     },
     "execution_count": 103,
     "metadata": {},
     "output_type": "execute_result"
    }
   ],
   "source": [
    "minnesota_data = Table(['Age', 'Condition', 'Died', 'Participated'])\n",
    "for row in mortality_summary.rows:\n",
    "    count = np.arange(0, row.item('Total'))\n",
    "    t = Table().with_column('Died', count < row.item('Deaths'))\n",
    "    t = t.with_column('Age', row.Age)\n",
    "    t = t.with_column('Condition', row.Condition)\n",
    "    t = t.with_column('Participated', True)\n",
    "    minnesota_data.append(t)\n",
    "minnesota_data"
   ]
  },
  {
   "cell_type": "markdown",
   "metadata": {},
   "source": [
    "We'll need to look at the breakdown for death rates for both the treatment (diet) and control groups."
   ]
  },
  {
   "cell_type": "markdown",
   "metadata": {
    "deletable": false,
    "editable": false
   },
   "source": [
    "**Question 2:** Create a table named `summed_mn_data`, with three columns and two rows. The three columns should be \"Condition\", \"Died sum\", and \"Participated sum\". There should be one row for the diet group and one row for the control group, and each row should encode the total number of people who participated in that group and the total number of people who died in that group. \n",
    "<!--\n",
    "BEGIN QUESTION\n",
    "name: q4_2\n",
    "-->"
   ]
  },
  {
   "cell_type": "code",
   "execution_count": 104,
   "metadata": {},
   "outputs": [
    {
     "data": {
      "text/html": [
       "<table border=\"1\" class=\"dataframe\">\n",
       "    <thead>\n",
       "        <tr>\n",
       "            <th>Condition</th> <th>Died sum</th> <th>Participated sum</th>\n",
       "        </tr>\n",
       "    </thead>\n",
       "    <tbody>\n",
       "        <tr>\n",
       "            <td>Control  </td> <td>222     </td> <td>4738            </td>\n",
       "        </tr>\n",
       "        <tr>\n",
       "            <td>Diet     </td> <td>245     </td> <td>4685            </td>\n",
       "        </tr>\n",
       "    </tbody>\n",
       "</table>"
      ],
      "text/plain": [
       "Condition | Died sum | Participated sum\n",
       "Control   | 222      | 4738\n",
       "Diet      | 245      | 4685"
      ]
     },
     "execution_count": 104,
     "metadata": {},
     "output_type": "execute_result"
    }
   ],
   "source": [
    "summed_mn_data = minnesota_data.drop('Age').group('Condition', sum) # SOLUTION\n",
    "summed_mn_data"
   ]
  },
  {
   "cell_type": "code",
   "execution_count": null,
   "metadata": {
    "deletable": false,
    "editable": false
   },
   "outputs": [],
   "source": [
    "grader.check(\"q4_2\")"
   ]
  },
  {
   "cell_type": "markdown",
   "metadata": {},
   "source": [
    "### Running a Hypothesis Test"
   ]
  },
  {
   "cell_type": "markdown",
   "metadata": {},
   "source": [
    "Using the `minnesota_data` data table, we want to explore how change in diet affects death rates among the subjects"
   ]
  },
  {
   "cell_type": "markdown",
   "metadata": {
    "deletable": false,
    "editable": false
   },
   "source": [
    "<!-- BEGIN QUESTION -->\n",
    "\n",
    "**Question 3:** Set up a null hypothesis and an alternative hypothesis that we can use to answer whether or not the unsaturated fat diet causes different rates of death in the two groups. We are interested in observing any change, not specifically an increase of decrease in death rates.\n",
    "<!--\n",
    "BEGIN QUESTION\n",
    "name: q4_3\n",
    "manual: true\n",
    "-->"
   ]
  },
  {
   "cell_type": "markdown",
   "metadata": {},
   "source": [
    "_Type your answer here, replacing this text._"
   ]
  },
  {
   "cell_type": "markdown",
   "metadata": {
    "export_pdf": true
   },
   "source": [
    "**SOLUTION:**\n",
    "\n",
    "__Null Hypothesis:__ The death rates associated with an unsaturated fat diet and a saturated fat diet are the same. Any difference in death rates is due to chance.\n",
    "\n",
    "__Alternative Hypothesis:__ The death rates associatedw ith an unsaturated fat diet and a saturated fat diet are different."
   ]
  },
  {
   "cell_type": "markdown",
   "metadata": {
    "deletable": false,
    "editable": false
   },
   "source": [
    "<!-- END QUESTION -->\n",
    "\n",
    "<!-- BEGIN QUESTION -->\n",
    "\n",
    "**Question 4:** In thinking of a test statistic, one researcher decides that the absolute difference in the number of people who died in the control group and the number of people who died in the diet group is a sufficient test statistic. Give one **specific** reason why this test statistic **will not** work. \n",
    "<!--\n",
    "BEGIN QUESTION\n",
    "name: q4_4\n",
    "manual: true\n",
    "-->"
   ]
  },
  {
   "cell_type": "markdown",
   "metadata": {},
   "source": [
    "_Type your answer here, replacing this text._"
   ]
  },
  {
   "cell_type": "markdown",
   "metadata": {
    "export_pdf": true
   },
   "source": [
    "**SOLUTION:** The number of people in the control group is not the same as the number of people in the diet group. It would be more useful to use the proportion of people who died in each group rather than the absolute number."
   ]
  },
  {
   "cell_type": "markdown",
   "metadata": {},
   "source": [
    "<!-- END QUESTION -->\n",
    "\n",
    "\n",
    "\n",
    "To combat the problem above, we instead decide to use the the absolute difference in hazard rates between the two groups as our test statistic. **The *hazard rate* is defined as the proportion of people who died in a specific group out of the total number who participated in the study from that group.**"
   ]
  },
  {
   "cell_type": "markdown",
   "metadata": {
    "deletable": false,
    "editable": false
   },
   "source": [
    "**Question 5:** Define a new table `summed_mn_hazard_data` that contains the columns of `summed_mn_data` along with an additional column, `Hazard Rate`, that contains the hazard rates for each condition.\n",
    "<!--\n",
    "BEGIN QUESTION\n",
    "name: q4_5\n",
    "manual: false\n",
    "-->"
   ]
  },
  {
   "cell_type": "code",
   "execution_count": 111,
   "metadata": {},
   "outputs": [
    {
     "data": {
      "text/html": [
       "<table border=\"1\" class=\"dataframe\">\n",
       "    <thead>\n",
       "        <tr>\n",
       "            <th>Condition</th> <th>Died sum</th> <th>Participated sum</th> <th>Hazard Rate</th>\n",
       "        </tr>\n",
       "    </thead>\n",
       "    <tbody>\n",
       "        <tr>\n",
       "            <td>Control  </td> <td>222     </td> <td>4738            </td> <td>0.0468552  </td>\n",
       "        </tr>\n",
       "        <tr>\n",
       "            <td>Diet     </td> <td>245     </td> <td>4685            </td> <td>0.0522946  </td>\n",
       "        </tr>\n",
       "    </tbody>\n",
       "</table>"
      ],
      "text/plain": [
       "Condition | Died sum | Participated sum | Hazard Rate\n",
       "Control   | 222      | 4738             | 0.0468552\n",
       "Diet      | 245      | 4685             | 0.0522946"
      ]
     },
     "execution_count": 111,
     "metadata": {},
     "output_type": "execute_result"
    }
   ],
   "source": [
    "summed_mn_hazard_data = summed_mn_data.with_column(\"Hazard Rate\", summed_mn_data.column('Died sum') / summed_mn_data.column('Participated sum')) # SOLUTION \n",
    "summed_mn_hazard_data"
   ]
  },
  {
   "cell_type": "code",
   "execution_count": null,
   "metadata": {
    "deletable": false,
    "editable": false
   },
   "outputs": [],
   "source": [
    "grader.check(\"q4_5\")"
   ]
  },
  {
   "cell_type": "markdown",
   "metadata": {
    "deletable": false,
    "editable": false
   },
   "source": [
    "**Question 6:** Define a function `compute_hazard_difference` which takes in a table like `summed_mn_hazard_data` and returns the absolute difference between the hazard rates of the control group and the diet group. Use it to get the observed test statistic and assign it to `death_rate_observed_statistic`.\n",
    "\n",
    "<!--\n",
    "BEGIN QUESTION\n",
    "name: q4_6\n",
    "manual: false\n",
    "-->"
   ]
  },
  {
   "cell_type": "code",
   "execution_count": 119,
   "metadata": {},
   "outputs": [
    {
     "data": {
      "text/plain": [
       "0.005439343927004493"
      ]
     },
     "execution_count": 119,
     "metadata": {},
     "output_type": "execute_result"
    }
   ],
   "source": [
    "def compute_hazard_difference(tbl):\n",
    "    return abs(tbl.column('Hazard Rate').item(0) - tbl.column('Hazard Rate').item(1)) # SOLUTION\n",
    "\n",
    "death_rate_observed_statistic = compute_hazard_difference(summed_mn_hazard_data)\n",
    "death_rate_observed_statistic"
   ]
  },
  {
   "cell_type": "code",
   "execution_count": null,
   "metadata": {
    "deletable": false,
    "editable": false
   },
   "outputs": [],
   "source": [
    "grader.check(\"q4_6\")"
   ]
  },
  {
   "cell_type": "markdown",
   "metadata": {
    "deletable": false,
    "editable": false
   },
   "source": [
    "**Question 7:** We are now in a position to run a hypothesis test to help differentiate between our two hypothesis using our data. Define a function `complete_test` which takes in `tbl` a table like `minnesota_data`. It simulates samples and calculates the rate differences for these samples under the null hypothesis 100 times, and uses them to return a P-Value with respect to our observed data. Note that your function should use the values in `tbl` , and should not refer to `minnesota_table`!\n",
    "\n",
    "Hint: This is a very long, involved problem. Start by outlining the steps you'll need to execute in this function and address each separately. Small steps and comments will be very helpful. You've already written a lot of key steps!\n",
    "\n",
    "Note: Your code may take a couple of minutes to run.\n",
    "\n",
    "<!--\n",
    "BEGIN QUESTION\n",
    "name: q4_7\n",
    "-->"
   ]
  },
  {
   "cell_type": "code",
   "execution_count": 126,
   "metadata": {},
   "outputs": [
    {
     "data": {
      "text/plain": [
       "0.19"
      ]
     },
     "execution_count": 126,
     "metadata": {},
     "output_type": "execute_result"
    }
   ],
   "source": [
    "# BEGIN SOLUTION NO PROMPT\n",
    "def compute_death_statistic(data_tbl):\n",
    "    summed_tbl = data_tbl.drop('Age').group('Condition', sum)\n",
    "    hazard_rate = summed_tbl.column('Died sum') / summed_tbl.column('Participated sum')\n",
    "    return compute_hazard_difference(summed_tbl.with_column('Hazard Rate', hazard_rate))\n",
    "def simulate_death_null(tbl):\n",
    "    shuffled_death = tbl.select('Died').sample(with_replacement=False).column(0)\n",
    "    return compute_death_statistic(tbl.with_column('Died', shuffled_death))\n",
    "def complete_test(t):\n",
    "    observed_stat = compute_death_statistic(t)\n",
    "    test_stats = make_array()\n",
    "    for i in np.arange(100):\n",
    "        test_stats = np.append(test_stats, simulate_death_null(t))\n",
    "        p_value = np.average(observed_stat <= test_stats)\n",
    "    return p_value\n",
    "# END SOLUTION\n",
    "\"\"\" # BEGIN PROMPT\n",
    "def complete_test(t):\n",
    "    ...\n",
    "\"\"\"; # END PROMPT\n",
    "\n",
    "our_p_value = complete_test(minnesota_data)\n",
    "our_p_value"
   ]
  },
  {
   "cell_type": "code",
   "execution_count": null,
   "metadata": {
    "deletable": false,
    "editable": false
   },
   "outputs": [],
   "source": [
    "grader.check(\"q4_7\")"
   ]
  },
  {
   "cell_type": "markdown",
   "metadata": {
    "deletable": false,
    "editable": false
   },
   "source": [
    "**Question 8:** Using the P-Value above, can we conclude that the change in diet causes a difference in death rate? Assume a normal p-value cutoff of 0.05. Set `reject_null` to `True` if we reject the null hypothesis and `False` if we fail to reject the null hypothesis.\n",
    "\n",
    "\n",
    "<!--\n",
    "BEGIN QUESTION\n",
    "name: q4_8\n",
    "-->"
   ]
  },
  {
   "cell_type": "code",
   "execution_count": 131,
   "metadata": {},
   "outputs": [
    {
     "data": {
      "text/plain": [
       "False"
      ]
     },
     "execution_count": 131,
     "metadata": {},
     "output_type": "execute_result"
    }
   ],
   "source": [
    "reject_null = our_p_value <= 0.05 # SOLUTION\n",
    "reject_null"
   ]
  },
  {
   "cell_type": "code",
   "execution_count": null,
   "metadata": {
    "deletable": false,
    "editable": false
   },
   "outputs": [],
   "source": [
    "grader.check(\"q4_8\")"
   ]
  },
  {
   "cell_type": "markdown",
   "metadata": {},
   "source": [
    "Congratulations! You have completed your own large scale case study into cause and effect surrounding one of the world's deadliest killers: cardiovascular disease. Your investigation has taken you through two important data sets and across decades of medical research.\n",
    " "
   ]
  },
  {
   "cell_type": "markdown",
   "metadata": {
    "deletable": false,
    "editable": false
   },
   "source": [
    "---\n",
    "\n",
    "To double-check your work, the cell below will rerun all of the autograder tests."
   ]
  },
  {
   "cell_type": "code",
   "execution_count": null,
   "metadata": {
    "deletable": false,
    "editable": false
   },
   "outputs": [],
   "source": [
    "grader.check_all()"
   ]
  },
  {
   "cell_type": "markdown",
   "metadata": {
    "deletable": false,
    "editable": false
   },
   "source": [
    "## Submission\n",
    "\n",
    "Make sure you have run all cells in your notebook in order before running the cell below, so that all images/graphs appear in the output. The cell below will generate a zip file for you to submit. **Please save before exporting!**"
   ]
  },
  {
   "cell_type": "code",
   "execution_count": null,
   "metadata": {
    "deletable": false,
    "editable": false
   },
   "outputs": [],
   "source": [
    "# Save your notebook first, then run this cell to export your submission.\n",
    "grader.export()"
   ]
  },
  {
   "cell_type": "markdown",
   "metadata": {},
   "source": [
    " "
   ]
  }
 ],
 "metadata": {
  "celltoolbar": "Edit Metadata",
  "kernelspec": {
   "display_name": "Python 3",
   "language": "python",
   "name": "python3"
  },
  "language_info": {
   "codemirror_mode": {
    "name": "ipython",
    "version": 3
   },
   "file_extension": ".py",
   "mimetype": "text/x-python",
   "name": "python",
   "nbconvert_exporter": "python",
   "pygments_lexer": "ipython3",
   "version": "3.7.1"
  }
 },
 "nbformat": 4,
 "nbformat_minor": 1
}
